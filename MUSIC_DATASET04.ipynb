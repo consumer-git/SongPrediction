{
 "cells": [
  {
   "cell_type": "markdown",
   "metadata": {},
   "source": [
    "### objective- to predict the likeleyhood of a hit song using log regression"
   ]
  },
  {
   "cell_type": "markdown",
   "metadata": {},
   "source": [
    "<a id=\"2\"></a> \n",
    "## Import Libraries"
   ]
  },
  {
   "cell_type": "code",
   "execution_count": 1,
   "metadata": {
    "_cell_guid": "b1076dfc-b9ad-4769-8c92-a6c4dae69d19",
    "_kg_hide-input": false,
    "_kg_hide-output": true,
    "_uuid": "8f2839f25d086af736a60e9eeb907d3b93b6e0e5"
   },
   "outputs": [],
   "source": [
    "\n",
    "import numpy as np \n",
    "import pandas as pd \n",
    "import matplotlib.pyplot as plt\n",
    "import seaborn as sns\n",
    "\n",
    "import warnings\n",
    "warnings.filterwarnings(\"ignore\")\n",
    "\n",
    "import random\n",
    "import string\n",
    "\n",
    "from matplotlib.pyplot import xticks\n",
    "%matplotlib inline\n"
   ]
  },
  {
   "cell_type": "markdown",
   "metadata": {},
   "source": [
    "#### final list of shortlisted song attributes \n",
    "\n",
    "'valence' A measure from 0.0 to 1.0 describing the musical positiveness conveyed by a track. Tracks with high valence sound more positive (e.g. happy, cheerful, euphoric), while tracks with low valence sound more negative (e.g. sad, depressed, angry).\n",
    "\n",
    "-'acousticness', A confidence measure from 0.0 to 1.0 of whether the track is acoustic. 1.0 represents high confidence the track is acoustic.\n",
    "\n",
    "-'danceability', Danceability describes how suitable a track is for dancing based on a combination of musical elements including tempo, rhythm stability, beat strength, and overall regularity. A value of 0.0 is least danceable and 1.0 is most danceable \n",
    "\n",
    "-'energy', Energy is a measure from 0.0 to 1.0 and represents a perceptual measure of intensity and activity. Typically, energetic tracks feel fast, loud, and noisy. For example, death metal has high energy, while a Bach prelude scores low on the scale.\n",
    "\n",
    "-'explicit', explicit lyrics - binary classifier \n",
    "\n",
    "-'liveness', Detects the presence of an audience in the recording. Higher liveness values represent an increased probability that the track was performed live.\n",
    "\n",
    "-'loudness', The overall loudness of a track in decibels (dB). Loudness values are averaged across the entire track and are useful for comparing relative loudness of tracks. Loudness is the quality of a sound that is the primary psychological correlate of physical strength (amplitude). Values typical range between -60 and 0 db.\n",
    "\n",
    "-'release_date', last five years yes or no? -binary classfier \n",
    "\n",
    "-'speechiness' Speechiness detects the presence of spoken words in a track. The more exclusively speech-like the recording (e.g. talk show, audio book, poetry), the closer to 1.0 the attribute value. Values above 0.66 describe tracks that are probably made entirely of spoken words. Values between 0.33 and 0.66 describe tracks that may contain both music and speech, either in sections or layered, including such cases as rap music.Values below 0.33 most likely represent music and other non-speech-like tracks."
   ]
  },
  {
   "cell_type": "markdown",
   "metadata": {},
   "source": []
  },
  {
   "cell_type": "code",
   "execution_count": 2,
   "metadata": {},
   "outputs": [],
   "source": [
    "df_rcs=pd.read_csv('new_DF.csv')"
   ]
  },
  {
   "cell_type": "code",
   "execution_count": 3,
   "metadata": {},
   "outputs": [],
   "source": [
    "df_rcs.drop(columns=['Unnamed: 0'],inplace=True)"
   ]
  },
  {
   "cell_type": "code",
   "execution_count": 4,
   "metadata": {
    "scrolled": true
   },
   "outputs": [
    {
     "data": {
      "text/plain": [
       "valence             0\n",
       "year                0\n",
       "acousticness        0\n",
       "danceability        0\n",
       "duration_ms         0\n",
       "energy              0\n",
       "explicit            0\n",
       "instrumentalness    0\n",
       "key                 0\n",
       "liveness            0\n",
       "loudness            0\n",
       "mode                0\n",
       "popularity          0\n",
       "release_date        0\n",
       "speechiness         0\n",
       "tempo               0\n",
       "dtype: int64"
      ]
     },
     "execution_count": 4,
     "metadata": {},
     "output_type": "execute_result"
    }
   ],
   "source": [
    "df_rcs.isnull().sum()"
   ]
  },
  {
   "cell_type": "code",
   "execution_count": 5,
   "metadata": {
    "scrolled": false
   },
   "outputs": [
    {
     "data": {
      "text/html": [
       "<div>\n",
       "<style scoped>\n",
       "    .dataframe tbody tr th:only-of-type {\n",
       "        vertical-align: middle;\n",
       "    }\n",
       "\n",
       "    .dataframe tbody tr th {\n",
       "        vertical-align: top;\n",
       "    }\n",
       "\n",
       "    .dataframe thead th {\n",
       "        text-align: right;\n",
       "    }\n",
       "</style>\n",
       "<table border=\"1\" class=\"dataframe\">\n",
       "  <thead>\n",
       "    <tr style=\"text-align: right;\">\n",
       "      <th></th>\n",
       "      <th>valence</th>\n",
       "      <th>year</th>\n",
       "      <th>acousticness</th>\n",
       "      <th>danceability</th>\n",
       "      <th>duration_ms</th>\n",
       "      <th>energy</th>\n",
       "      <th>explicit</th>\n",
       "      <th>instrumentalness</th>\n",
       "      <th>key</th>\n",
       "      <th>liveness</th>\n",
       "      <th>loudness</th>\n",
       "      <th>mode</th>\n",
       "      <th>popularity</th>\n",
       "      <th>release_date</th>\n",
       "      <th>speechiness</th>\n",
       "      <th>tempo</th>\n",
       "    </tr>\n",
       "  </thead>\n",
       "  <tbody>\n",
       "    <tr>\n",
       "      <th>0</th>\n",
       "      <td>0.0594</td>\n",
       "      <td>1921</td>\n",
       "      <td>0.982</td>\n",
       "      <td>0.279</td>\n",
       "      <td>831667</td>\n",
       "      <td>0.211</td>\n",
       "      <td>0</td>\n",
       "      <td>0.878000</td>\n",
       "      <td>10</td>\n",
       "      <td>0.665</td>\n",
       "      <td>-20.096</td>\n",
       "      <td>1</td>\n",
       "      <td>4</td>\n",
       "      <td>1921</td>\n",
       "      <td>0.0366</td>\n",
       "      <td>80.954</td>\n",
       "    </tr>\n",
       "    <tr>\n",
       "      <th>1</th>\n",
       "      <td>0.9630</td>\n",
       "      <td>1921</td>\n",
       "      <td>0.732</td>\n",
       "      <td>0.819</td>\n",
       "      <td>180533</td>\n",
       "      <td>0.341</td>\n",
       "      <td>0</td>\n",
       "      <td>0.000000</td>\n",
       "      <td>7</td>\n",
       "      <td>0.160</td>\n",
       "      <td>-12.441</td>\n",
       "      <td>1</td>\n",
       "      <td>5</td>\n",
       "      <td>1921</td>\n",
       "      <td>0.4150</td>\n",
       "      <td>60.936</td>\n",
       "    </tr>\n",
       "    <tr>\n",
       "      <th>2</th>\n",
       "      <td>0.0394</td>\n",
       "      <td>1921</td>\n",
       "      <td>0.961</td>\n",
       "      <td>0.328</td>\n",
       "      <td>500062</td>\n",
       "      <td>0.166</td>\n",
       "      <td>0</td>\n",
       "      <td>0.913000</td>\n",
       "      <td>3</td>\n",
       "      <td>0.101</td>\n",
       "      <td>-14.850</td>\n",
       "      <td>1</td>\n",
       "      <td>5</td>\n",
       "      <td>1921</td>\n",
       "      <td>0.0339</td>\n",
       "      <td>110.339</td>\n",
       "    </tr>\n",
       "    <tr>\n",
       "      <th>3</th>\n",
       "      <td>0.1650</td>\n",
       "      <td>1921</td>\n",
       "      <td>0.967</td>\n",
       "      <td>0.275</td>\n",
       "      <td>210000</td>\n",
       "      <td>0.309</td>\n",
       "      <td>0</td>\n",
       "      <td>0.000028</td>\n",
       "      <td>5</td>\n",
       "      <td>0.381</td>\n",
       "      <td>-9.316</td>\n",
       "      <td>1</td>\n",
       "      <td>3</td>\n",
       "      <td>1921</td>\n",
       "      <td>0.0354</td>\n",
       "      <td>100.109</td>\n",
       "    </tr>\n",
       "    <tr>\n",
       "      <th>4</th>\n",
       "      <td>0.2530</td>\n",
       "      <td>1921</td>\n",
       "      <td>0.957</td>\n",
       "      <td>0.418</td>\n",
       "      <td>166693</td>\n",
       "      <td>0.193</td>\n",
       "      <td>0</td>\n",
       "      <td>0.000002</td>\n",
       "      <td>3</td>\n",
       "      <td>0.229</td>\n",
       "      <td>-10.096</td>\n",
       "      <td>1</td>\n",
       "      <td>2</td>\n",
       "      <td>1921</td>\n",
       "      <td>0.0380</td>\n",
       "      <td>101.665</td>\n",
       "    </tr>\n",
       "  </tbody>\n",
       "</table>\n",
       "</div>"
      ],
      "text/plain": [
       "   valence  year  acousticness  danceability  duration_ms  energy  explicit  \\\n",
       "0   0.0594  1921         0.982         0.279       831667   0.211         0   \n",
       "1   0.9630  1921         0.732         0.819       180533   0.341         0   \n",
       "2   0.0394  1921         0.961         0.328       500062   0.166         0   \n",
       "3   0.1650  1921         0.967         0.275       210000   0.309         0   \n",
       "4   0.2530  1921         0.957         0.418       166693   0.193         0   \n",
       "\n",
       "   instrumentalness  key  liveness  loudness  mode  popularity release_date  \\\n",
       "0          0.878000   10     0.665   -20.096     1           4         1921   \n",
       "1          0.000000    7     0.160   -12.441     1           5         1921   \n",
       "2          0.913000    3     0.101   -14.850     1           5         1921   \n",
       "3          0.000028    5     0.381    -9.316     1           3         1921   \n",
       "4          0.000002    3     0.229   -10.096     1           2         1921   \n",
       "\n",
       "   speechiness    tempo  \n",
       "0       0.0366   80.954  \n",
       "1       0.4150   60.936  \n",
       "2       0.0339  110.339  \n",
       "3       0.0354  100.109  \n",
       "4       0.0380  101.665  "
      ]
     },
     "execution_count": 5,
     "metadata": {},
     "output_type": "execute_result"
    }
   ],
   "source": [
    "df_rcs.head()"
   ]
  },
  {
   "cell_type": "code",
   "execution_count": 6,
   "metadata": {},
   "outputs": [],
   "source": [
    "nums=['valence','acousticness','danceability','duration_ms','energy','instrumentalness','liveness','loudness','speechiness','tempo']"
   ]
  },
  {
   "cell_type": "code",
   "execution_count": 7,
   "metadata": {
    "scrolled": false
   },
   "outputs": [
    {
     "data": {
      "image/png": "[encoded data removed]",
      "text/plain": [
       "<Figure size 576x144 with 1 Axes>"
      ]
     },
     "metadata": {
      "needs_background": "light"
     },
     "output_type": "display_data"
    },
    {
     "data": {
      "image/png": "[encoded data removed]",
      "text/plain": [
       "<Figure size 576x144 with 1 Axes>"
      ]
     },
     "metadata": {
      "needs_background": "light"
     },
     "output_type": "display_data"
    },
    {
     "data": {
      "image/png": "[encoded data removed]",
      "text/plain": [
       "<Figure size 576x144 with 1 Axes>"
      ]
     },
     "metadata": {
      "needs_background": "light"
     },
     "output_type": "display_data"
    },
    {
     "data": {
      "image/png": "[encoded data removed]",
      "text/plain": [
       "<Figure size 576x144 with 1 Axes>"
      ]
     },
     "metadata": {
      "needs_background": "light"
     },
     "output_type": "display_data"
    },
    {
     "data": {
      "image/png": "[encoded data removed]",
      "text/plain": [
       "<Figure size 576x144 with 1 Axes>"
      ]
     },
     "metadata": {
      "needs_background": "light"
     },
     "output_type": "display_data"
    },
    {
     "data": {
      "image/png": "[encoded data removed]",
      "text/plain": [
       "<Figure size 576x144 with 1 Axes>"
      ]
     },
     "metadata": {
      "needs_background": "light"
     },
     "output_type": "display_data"
    },
    {
     "data": {
      "image/png": "[encoded data removed]",
      "text/plain": [
       "<Figure size 576x144 with 1 Axes>"
      ]
     },
     "metadata": {
      "needs_background": "light"
     },
     "output_type": "display_data"
    },
    {
     "data": {
      "image/png": "[encoded data removed]",
      "text/plain": [
       "<Figure size 576x144 with 1 Axes>"
      ]
     },
     "metadata": {
      "needs_background": "light"
     },
     "output_type": "display_data"
    },
    {
     "data": {
      "image/png": "[encoded data removed]",
      "text/plain": [
       "<Figure size 576x144 with 1 Axes>"
      ]
     },
     "metadata": {
      "needs_background": "light"
     },
     "output_type": "display_data"
    },
    {
     "data": {
      "image/png": "[encoded data removed]",
      "text/plain": [
       "<Figure size 576x144 with 1 Axes>"
      ]
     },
     "metadata": {
      "needs_background": "light"
     },
     "output_type": "display_data"
    }
   ],
   "source": [
    "for n in nums: \n",
    "    \n",
    "    plt.subplots(1,1, figsize = (8,2)) \n",
    "    sns.boxplot(x = n, data = df_rcs)\n",
    "plt.show()"
   ]
  },
  {
   "cell_type": "code",
   "execution_count": 8,
   "metadata": {},
   "outputs": [],
   "source": [
    "nums2=['duration_ms','instrumentalness','liveness','loudness','speechiness','tempo']"
   ]
  },
  {
   "cell_type": "code",
   "execution_count": 9,
   "metadata": {},
   "outputs": [],
   "source": [
    "for p in nums2: \n",
    "    percentiles = df_rcs[p].quantile([0.10,0.85]).values\n",
    "    df_rcs[p][df_rcs[p] <= percentiles[0]] = percentiles[0]\n",
    "    df_rcs[p][df_rcs[p] >= percentiles[1]] = percentiles[1]"
   ]
  },
  {
   "cell_type": "code",
   "execution_count": 10,
   "metadata": {},
   "outputs": [
    {
     "data": {
      "image/png": "[encoded data removed]",
      "text/plain": [
       "<Figure size 576x144 with 1 Axes>"
      ]
     },
     "metadata": {
      "needs_background": "light"
     },
     "output_type": "display_data"
    },
    {
     "data": {
      "image/png": "[encoded data removed]",
      "text/plain": [
       "<Figure size 576x144 with 1 Axes>"
      ]
     },
     "metadata": {
      "needs_background": "light"
     },
     "output_type": "display_data"
    },
    {
     "data": {
      "image/png": "[encoded data removed]",
      "text/plain": [
       "<Figure size 576x144 with 1 Axes>"
      ]
     },
     "metadata": {
      "needs_background": "light"
     },
     "output_type": "display_data"
    },
    {
     "data": {
      "image/png": "[encoded data removed]",
      "text/plain": [
       "<Figure size 576x144 with 1 Axes>"
      ]
     },
     "metadata": {
      "needs_background": "light"
     },
     "output_type": "display_data"
    },
    {
     "data": {
      "image/png": "[encoded data removed]",
      "text/plain": [
       "<Figure size 576x144 with 1 Axes>"
      ]
     },
     "metadata": {
      "needs_background": "light"
     },
     "output_type": "display_data"
    },
    {
     "data": {
      "image/png": "[encoded data removed]",
      "text/plain": [
       "<Figure size 576x144 with 1 Axes>"
      ]
     },
     "metadata": {
      "needs_background": "light"
     },
     "output_type": "display_data"
    }
   ],
   "source": [
    "for t in nums2: \n",
    "    \n",
    "    plt.subplots(1,1, figsize = (8,2)) \n",
    "    sns.boxplot(x = t, data = df_rcs)\n",
    "plt.show()"
   ]
  },
  {
   "cell_type": "code",
   "execution_count": 11,
   "metadata": {},
   "outputs": [],
   "source": [
    "df_rcs.drop(columns='instrumentalness',inplace=True)"
   ]
  },
  {
   "cell_type": "code",
   "execution_count": 12,
   "metadata": {},
   "outputs": [
    {
     "data": {
      "image/png": "[encoded data removed]",
      "text/plain": [
       "<Figure size 936x504 with 2 Axes>"
      ]
     },
     "metadata": {
      "needs_background": "light"
     },
     "output_type": "display_data"
    }
   ],
   "source": [
    "plt.subplots(figsize=(13, 7))\n",
    "sns.heatmap(df_rcs.corr(), annot=True, linewidths=0.4,linecolor=\"white\", fmt= '.1f',cmap=\"Blues\")\n",
    "plt.show() \n"
   ]
  },
  {
   "cell_type": "code",
   "execution_count": 13,
   "metadata": {},
   "outputs": [],
   "source": [
    "#importing libraries for LOG REG \n",
    "from sklearn.model_selection import train_test_split\n",
    "from sklearn.preprocessing import StandardScaler\n",
    "import statsmodels.api as sm\n",
    "from sklearn.linear_model import LogisticRegression\n",
    "from sklearn.feature_selection import RFE\n",
    "from sklearn import metrics\n",
    "from statsmodels.stats.outliers_influence import variance_inflation_factor\n",
    "from sklearn.metrics import confusion_matrix\n",
    "from sklearn.metrics import precision_score, recall_score\n",
    "from sklearn.metrics import precision_recall_curve\n",
    "from statsmodels.stats.outliers_influence import variance_inflation_factor"
   ]
  },
  {
   "cell_type": "code",
   "execution_count": 14,
   "metadata": {},
   "outputs": [
    {
     "data": {
      "text/plain": [
       "Index(['valence', 'year', 'acousticness', 'danceability', 'duration_ms',\n",
       "       'energy', 'explicit', 'key', 'liveness', 'loudness', 'mode',\n",
       "       'popularity', 'release_date', 'speechiness', 'tempo'],\n",
       "      dtype='object')"
      ]
     },
     "execution_count": 14,
     "metadata": {},
     "output_type": "execute_result"
    }
   ],
   "source": [
    "df_rcs.columns"
   ]
  },
  {
   "cell_type": "code",
   "execution_count": null,
   "metadata": {},
   "outputs": [],
   "source": []
  },
  {
   "cell_type": "code",
   "execution_count": null,
   "metadata": {},
   "outputs": [],
   "source": []
  },
  {
   "cell_type": "code",
   "execution_count": null,
   "metadata": {},
   "outputs": [],
   "source": []
  },
  {
   "cell_type": "code",
   "execution_count": 15,
   "metadata": {},
   "outputs": [
    {
     "data": {
      "text/plain": [
       "0    162924\n",
       "1      7729\n",
       "Name: popularity_bin, dtype: int64"
      ]
     },
     "execution_count": 15,
     "metadata": {},
     "output_type": "execute_result"
    }
   ],
   "source": [
    "df_rcs[\"popularity_bin\"]= [ 1 if i>=66.5 else 0 for i in df_rcs.popularity ] #arbitary value\n",
    "df_rcs[\"popularity_bin\"].value_counts()"
   ]
  },
  {
   "cell_type": "code",
   "execution_count": 16,
   "metadata": {
    "scrolled": true
   },
   "outputs": [
    {
     "data": {
      "text/html": [
       "<div>\n",
       "<style scoped>\n",
       "    .dataframe tbody tr th:only-of-type {\n",
       "        vertical-align: middle;\n",
       "    }\n",
       "\n",
       "    .dataframe tbody tr th {\n",
       "        vertical-align: top;\n",
       "    }\n",
       "\n",
       "    .dataframe thead th {\n",
       "        text-align: right;\n",
       "    }\n",
       "</style>\n",
       "<table border=\"1\" class=\"dataframe\">\n",
       "  <thead>\n",
       "    <tr style=\"text-align: right;\">\n",
       "      <th></th>\n",
       "      <th>valence</th>\n",
       "      <th>year</th>\n",
       "      <th>acousticness</th>\n",
       "      <th>danceability</th>\n",
       "      <th>duration_ms</th>\n",
       "      <th>energy</th>\n",
       "      <th>explicit</th>\n",
       "      <th>key</th>\n",
       "      <th>liveness</th>\n",
       "      <th>loudness</th>\n",
       "      <th>mode</th>\n",
       "      <th>popularity</th>\n",
       "      <th>release_date</th>\n",
       "      <th>speechiness</th>\n",
       "      <th>tempo</th>\n",
       "      <th>popularity_bin</th>\n",
       "    </tr>\n",
       "  </thead>\n",
       "  <tbody>\n",
       "    <tr>\n",
       "      <th>0</th>\n",
       "      <td>0.0594</td>\n",
       "      <td>1921</td>\n",
       "      <td>0.982</td>\n",
       "      <td>0.279</td>\n",
       "      <td>301827</td>\n",
       "      <td>0.211</td>\n",
       "      <td>0</td>\n",
       "      <td>10</td>\n",
       "      <td>0.344</td>\n",
       "      <td>-19.076</td>\n",
       "      <td>1</td>\n",
       "      <td>4</td>\n",
       "      <td>1921</td>\n",
       "      <td>0.0366</td>\n",
       "      <td>80.954</td>\n",
       "      <td>0</td>\n",
       "    </tr>\n",
       "    <tr>\n",
       "      <th>1</th>\n",
       "      <td>0.9630</td>\n",
       "      <td>1921</td>\n",
       "      <td>0.732</td>\n",
       "      <td>0.819</td>\n",
       "      <td>180533</td>\n",
       "      <td>0.341</td>\n",
       "      <td>0</td>\n",
       "      <td>7</td>\n",
       "      <td>0.160</td>\n",
       "      <td>-12.441</td>\n",
       "      <td>1</td>\n",
       "      <td>5</td>\n",
       "      <td>1921</td>\n",
       "      <td>0.1270</td>\n",
       "      <td>79.543</td>\n",
       "      <td>0</td>\n",
       "    </tr>\n",
       "    <tr>\n",
       "      <th>2</th>\n",
       "      <td>0.0394</td>\n",
       "      <td>1921</td>\n",
       "      <td>0.961</td>\n",
       "      <td>0.328</td>\n",
       "      <td>301827</td>\n",
       "      <td>0.166</td>\n",
       "      <td>0</td>\n",
       "      <td>3</td>\n",
       "      <td>0.101</td>\n",
       "      <td>-14.850</td>\n",
       "      <td>1</td>\n",
       "      <td>5</td>\n",
       "      <td>1921</td>\n",
       "      <td>0.0339</td>\n",
       "      <td>110.339</td>\n",
       "      <td>0</td>\n",
       "    </tr>\n",
       "    <tr>\n",
       "      <th>3</th>\n",
       "      <td>0.1650</td>\n",
       "      <td>1921</td>\n",
       "      <td>0.967</td>\n",
       "      <td>0.275</td>\n",
       "      <td>210000</td>\n",
       "      <td>0.309</td>\n",
       "      <td>0</td>\n",
       "      <td>5</td>\n",
       "      <td>0.344</td>\n",
       "      <td>-9.316</td>\n",
       "      <td>1</td>\n",
       "      <td>3</td>\n",
       "      <td>1921</td>\n",
       "      <td>0.0354</td>\n",
       "      <td>100.109</td>\n",
       "      <td>0</td>\n",
       "    </tr>\n",
       "    <tr>\n",
       "      <th>4</th>\n",
       "      <td>0.2530</td>\n",
       "      <td>1921</td>\n",
       "      <td>0.957</td>\n",
       "      <td>0.418</td>\n",
       "      <td>166693</td>\n",
       "      <td>0.193</td>\n",
       "      <td>0</td>\n",
       "      <td>3</td>\n",
       "      <td>0.229</td>\n",
       "      <td>-10.096</td>\n",
       "      <td>1</td>\n",
       "      <td>2</td>\n",
       "      <td>1921</td>\n",
       "      <td>0.0380</td>\n",
       "      <td>101.665</td>\n",
       "      <td>0</td>\n",
       "    </tr>\n",
       "  </tbody>\n",
       "</table>\n",
       "</div>"
      ],
      "text/plain": [
       "   valence  year  acousticness  danceability  duration_ms  energy  explicit  \\\n",
       "0   0.0594  1921         0.982         0.279       301827   0.211         0   \n",
       "1   0.9630  1921         0.732         0.819       180533   0.341         0   \n",
       "2   0.0394  1921         0.961         0.328       301827   0.166         0   \n",
       "3   0.1650  1921         0.967         0.275       210000   0.309         0   \n",
       "4   0.2530  1921         0.957         0.418       166693   0.193         0   \n",
       "\n",
       "   key  liveness  loudness  mode  popularity  release_date  speechiness  \\\n",
       "0   10     0.344   -19.076     1           4          1921       0.0366   \n",
       "1    7     0.160   -12.441     1           5          1921       0.1270   \n",
       "2    3     0.101   -14.850     1           5          1921       0.0339   \n",
       "3    5     0.344    -9.316     1           3          1921       0.0354   \n",
       "4    3     0.229   -10.096     1           2          1921       0.0380   \n",
       "\n",
       "     tempo  popularity_bin  \n",
       "0   80.954               0  \n",
       "1   79.543               0  \n",
       "2  110.339               0  \n",
       "3  100.109               0  \n",
       "4  101.665               0  "
      ]
     },
     "execution_count": 16,
     "metadata": {},
     "output_type": "execute_result"
    }
   ],
   "source": [
    "\n",
    "\n",
    "df_rcs['release_date'] = pd.to_datetime(df_rcs['release_date']).dt.year\n",
    "df_rcs.head()\n",
    "\n",
    "#pd.to_datetime('13000101', format='%Y%m%d', errors='coerce')"
   ]
  },
  {
   "cell_type": "code",
   "execution_count": 17,
   "metadata": {},
   "outputs": [
    {
     "data": {
      "text/plain": [
       "0         1921\n",
       "1         1921\n",
       "2         1921\n",
       "3         1921\n",
       "4         1921\n",
       "          ... \n",
       "170648    2020\n",
       "170649    2020\n",
       "170650    2020\n",
       "170651    2020\n",
       "170652    2020\n",
       "Name: release_date, Length: 170653, dtype: int64"
      ]
     },
     "execution_count": 17,
     "metadata": {},
     "output_type": "execute_result"
    }
   ],
   "source": [
    "df_rcs['release_date']"
   ]
  },
  {
   "cell_type": "code",
   "execution_count": 18,
   "metadata": {},
   "outputs": [
    {
     "data": {
      "text/plain": [
       "0    158808\n",
       "1     11845\n",
       "Name: release_date, dtype: int64"
      ]
     },
     "execution_count": 18,
     "metadata": {},
     "output_type": "execute_result"
    }
   ],
   "source": [
    "df_rcs['release_date']= [ 1 if i>=2015 else 0 for i in df_rcs.release_date ] #anything last  1 year is new \n",
    "df_rcs['release_date'].value_counts()"
   ]
  },
  {
   "cell_type": "code",
   "execution_count": 19,
   "metadata": {
    "scrolled": true
   },
   "outputs": [
    {
     "data": {
      "text/plain": [
       "0    0\n",
       "1    0\n",
       "2    0\n",
       "3    0\n",
       "4    0\n",
       "Name: popularity_bin, dtype: int64"
      ]
     },
     "execution_count": 19,
     "metadata": {},
     "output_type": "execute_result"
    }
   ],
   "source": [
    "y = df_rcs['popularity_bin']\n",
    "y.head()"
   ]
  },
  {
   "cell_type": "code",
   "execution_count": 20,
   "metadata": {},
   "outputs": [],
   "source": [
    "# Putting feature variable to X\n",
    "# removing the customer ID and target variables \n",
    "X = df_rcs.drop(['popularity','popularity_bin','year'], axis=1)"
   ]
  },
  {
   "cell_type": "code",
   "execution_count": 21,
   "metadata": {
    "scrolled": true
   },
   "outputs": [
    {
     "data": {
      "text/html": [
       "<div>\n",
       "<style scoped>\n",
       "    .dataframe tbody tr th:only-of-type {\n",
       "        vertical-align: middle;\n",
       "    }\n",
       "\n",
       "    .dataframe tbody tr th {\n",
       "        vertical-align: top;\n",
       "    }\n",
       "\n",
       "    .dataframe thead th {\n",
       "        text-align: right;\n",
       "    }\n",
       "</style>\n",
       "<table border=\"1\" class=\"dataframe\">\n",
       "  <thead>\n",
       "    <tr style=\"text-align: right;\">\n",
       "      <th></th>\n",
       "      <th>valence</th>\n",
       "      <th>acousticness</th>\n",
       "      <th>danceability</th>\n",
       "      <th>duration_ms</th>\n",
       "      <th>energy</th>\n",
       "      <th>explicit</th>\n",
       "      <th>key</th>\n",
       "      <th>liveness</th>\n",
       "      <th>loudness</th>\n",
       "      <th>mode</th>\n",
       "      <th>release_date</th>\n",
       "      <th>speechiness</th>\n",
       "      <th>tempo</th>\n",
       "    </tr>\n",
       "  </thead>\n",
       "  <tbody>\n",
       "    <tr>\n",
       "      <th>0</th>\n",
       "      <td>0.0594</td>\n",
       "      <td>0.982</td>\n",
       "      <td>0.279</td>\n",
       "      <td>301827</td>\n",
       "      <td>0.211</td>\n",
       "      <td>0</td>\n",
       "      <td>10</td>\n",
       "      <td>0.344</td>\n",
       "      <td>-19.076</td>\n",
       "      <td>1</td>\n",
       "      <td>0</td>\n",
       "      <td>0.0366</td>\n",
       "      <td>80.954</td>\n",
       "    </tr>\n",
       "    <tr>\n",
       "      <th>1</th>\n",
       "      <td>0.9630</td>\n",
       "      <td>0.732</td>\n",
       "      <td>0.819</td>\n",
       "      <td>180533</td>\n",
       "      <td>0.341</td>\n",
       "      <td>0</td>\n",
       "      <td>7</td>\n",
       "      <td>0.160</td>\n",
       "      <td>-12.441</td>\n",
       "      <td>1</td>\n",
       "      <td>0</td>\n",
       "      <td>0.1270</td>\n",
       "      <td>79.543</td>\n",
       "    </tr>\n",
       "    <tr>\n",
       "      <th>2</th>\n",
       "      <td>0.0394</td>\n",
       "      <td>0.961</td>\n",
       "      <td>0.328</td>\n",
       "      <td>301827</td>\n",
       "      <td>0.166</td>\n",
       "      <td>0</td>\n",
       "      <td>3</td>\n",
       "      <td>0.101</td>\n",
       "      <td>-14.850</td>\n",
       "      <td>1</td>\n",
       "      <td>0</td>\n",
       "      <td>0.0339</td>\n",
       "      <td>110.339</td>\n",
       "    </tr>\n",
       "    <tr>\n",
       "      <th>3</th>\n",
       "      <td>0.1650</td>\n",
       "      <td>0.967</td>\n",
       "      <td>0.275</td>\n",
       "      <td>210000</td>\n",
       "      <td>0.309</td>\n",
       "      <td>0</td>\n",
       "      <td>5</td>\n",
       "      <td>0.344</td>\n",
       "      <td>-9.316</td>\n",
       "      <td>1</td>\n",
       "      <td>0</td>\n",
       "      <td>0.0354</td>\n",
       "      <td>100.109</td>\n",
       "    </tr>\n",
       "    <tr>\n",
       "      <th>4</th>\n",
       "      <td>0.2530</td>\n",
       "      <td>0.957</td>\n",
       "      <td>0.418</td>\n",
       "      <td>166693</td>\n",
       "      <td>0.193</td>\n",
       "      <td>0</td>\n",
       "      <td>3</td>\n",
       "      <td>0.229</td>\n",
       "      <td>-10.096</td>\n",
       "      <td>1</td>\n",
       "      <td>0</td>\n",
       "      <td>0.0380</td>\n",
       "      <td>101.665</td>\n",
       "    </tr>\n",
       "  </tbody>\n",
       "</table>\n",
       "</div>"
      ],
      "text/plain": [
       "   valence  acousticness  danceability  duration_ms  energy  explicit  key  \\\n",
       "0   0.0594         0.982         0.279       301827   0.211         0   10   \n",
       "1   0.9630         0.732         0.819       180533   0.341         0    7   \n",
       "2   0.0394         0.961         0.328       301827   0.166         0    3   \n",
       "3   0.1650         0.967         0.275       210000   0.309         0    5   \n",
       "4   0.2530         0.957         0.418       166693   0.193         0    3   \n",
       "\n",
       "   liveness  loudness  mode  release_date  speechiness    tempo  \n",
       "0     0.344   -19.076     1             0       0.0366   80.954  \n",
       "1     0.160   -12.441     1             0       0.1270   79.543  \n",
       "2     0.101   -14.850     1             0       0.0339  110.339  \n",
       "3     0.344    -9.316     1             0       0.0354  100.109  \n",
       "4     0.229   -10.096     1             0       0.0380  101.665  "
      ]
     },
     "execution_count": 21,
     "metadata": {},
     "output_type": "execute_result"
    }
   ],
   "source": [
    "X.head()"
   ]
  },
  {
   "cell_type": "code",
   "execution_count": 22,
   "metadata": {},
   "outputs": [],
   "source": [
    "X_train, X_test, y_train, y_test = train_test_split(X, y, train_size=0.7, test_size=0.3, random_state=100)"
   ]
  },
  {
   "cell_type": "code",
   "execution_count": 23,
   "metadata": {},
   "outputs": [
    {
     "data": {
      "text/html": [
       "<div>\n",
       "<style scoped>\n",
       "    .dataframe tbody tr th:only-of-type {\n",
       "        vertical-align: middle;\n",
       "    }\n",
       "\n",
       "    .dataframe tbody tr th {\n",
       "        vertical-align: top;\n",
       "    }\n",
       "\n",
       "    .dataframe thead th {\n",
       "        text-align: right;\n",
       "    }\n",
       "</style>\n",
       "<table border=\"1\" class=\"dataframe\">\n",
       "  <thead>\n",
       "    <tr style=\"text-align: right;\">\n",
       "      <th></th>\n",
       "      <th>valence</th>\n",
       "      <th>acousticness</th>\n",
       "      <th>danceability</th>\n",
       "      <th>duration_ms</th>\n",
       "      <th>energy</th>\n",
       "      <th>explicit</th>\n",
       "      <th>key</th>\n",
       "      <th>liveness</th>\n",
       "      <th>loudness</th>\n",
       "      <th>mode</th>\n",
       "      <th>release_date</th>\n",
       "      <th>speechiness</th>\n",
       "      <th>tempo</th>\n",
       "    </tr>\n",
       "  </thead>\n",
       "  <tbody>\n",
       "    <tr>\n",
       "      <th>61783</th>\n",
       "      <td>-1.566268</td>\n",
       "      <td>1.297499</td>\n",
       "      <td>-2.142619</td>\n",
       "      <td>0.765659</td>\n",
       "      <td>-0.725637</td>\n",
       "      <td>0</td>\n",
       "      <td>0.512342</td>\n",
       "      <td>-0.888062</td>\n",
       "      <td>-0.509022</td>\n",
       "      <td>1</td>\n",
       "      <td>0</td>\n",
       "      <td>-0.464627</td>\n",
       "      <td>-1.473357</td>\n",
       "    </tr>\n",
       "    <tr>\n",
       "      <th>101786</th>\n",
       "      <td>-0.206674</td>\n",
       "      <td>-1.329083</td>\n",
       "      <td>-0.751850</td>\n",
       "      <td>1.022132</td>\n",
       "      <td>1.802675</td>\n",
       "      <td>0</td>\n",
       "      <td>1.081649</td>\n",
       "      <td>-0.133907</td>\n",
       "      <td>1.227867</td>\n",
       "      <td>1</td>\n",
       "      <td>0</td>\n",
       "      <td>0.380725</td>\n",
       "      <td>0.080171</td>\n",
       "    </tr>\n",
       "    <tr>\n",
       "      <th>84289</th>\n",
       "      <td>-0.396562</td>\n",
       "      <td>1.036947</td>\n",
       "      <td>0.241556</td>\n",
       "      <td>1.550604</td>\n",
       "      <td>-0.288691</td>\n",
       "      <td>0</td>\n",
       "      <td>1.650956</td>\n",
       "      <td>-0.164731</td>\n",
       "      <td>0.505610</td>\n",
       "      <td>0</td>\n",
       "      <td>0</td>\n",
       "      <td>-0.714993</td>\n",
       "      <td>0.034347</td>\n",
       "    </tr>\n",
       "    <tr>\n",
       "      <th>46612</th>\n",
       "      <td>0.959234</td>\n",
       "      <td>-0.728430</td>\n",
       "      <td>-0.388547</td>\n",
       "      <td>-0.889077</td>\n",
       "      <td>0.151990</td>\n",
       "      <td>0</td>\n",
       "      <td>-0.056966</td>\n",
       "      <td>1.263438</td>\n",
       "      <td>-0.389773</td>\n",
       "      <td>1</td>\n",
       "      <td>0</td>\n",
       "      <td>0.657601</td>\n",
       "      <td>1.027244</td>\n",
       "    </tr>\n",
       "    <tr>\n",
       "      <th>69275</th>\n",
       "      <td>-0.388966</td>\n",
       "      <td>0.638142</td>\n",
       "      <td>-0.740497</td>\n",
       "      <td>-0.658686</td>\n",
       "      <td>-0.923570</td>\n",
       "      <td>0</td>\n",
       "      <td>-1.480234</td>\n",
       "      <td>1.427831</td>\n",
       "      <td>0.642442</td>\n",
       "      <td>1</td>\n",
       "      <td>0</td>\n",
       "      <td>-0.735611</td>\n",
       "      <td>0.347059</td>\n",
       "    </tr>\n",
       "  </tbody>\n",
       "</table>\n",
       "</div>"
      ],
      "text/plain": [
       "         valence  acousticness  danceability  duration_ms    energy  explicit  \\\n",
       "61783  -1.566268      1.297499     -2.142619     0.765659 -0.725637         0   \n",
       "101786 -0.206674     -1.329083     -0.751850     1.022132  1.802675         0   \n",
       "84289  -0.396562      1.036947      0.241556     1.550604 -0.288691         0   \n",
       "46612   0.959234     -0.728430     -0.388547    -0.889077  0.151990         0   \n",
       "69275  -0.388966      0.638142     -0.740497    -0.658686 -0.923570         0   \n",
       "\n",
       "             key  liveness  loudness  mode  release_date  speechiness  \\\n",
       "61783   0.512342 -0.888062 -0.509022     1             0    -0.464627   \n",
       "101786  1.081649 -0.133907  1.227867     1             0     0.380725   \n",
       "84289   1.650956 -0.164731  0.505610     0             0    -0.714993   \n",
       "46612  -0.056966  1.263438 -0.389773     1             0     0.657601   \n",
       "69275  -1.480234  1.427831  0.642442     1             0    -0.735611   \n",
       "\n",
       "           tempo  \n",
       "61783  -1.473357  \n",
       "101786  0.080171  \n",
       "84289   0.034347  \n",
       "46612   1.027244  \n",
       "69275   0.347059  "
      ]
     },
     "execution_count": 23,
     "metadata": {},
     "output_type": "execute_result"
    }
   ],
   "source": [
    "scaly = StandardScaler()\n",
    "\n",
    "X_train[['valence','acousticness','danceability','duration_ms','energy','key','liveness','loudness','speechiness','tempo']] = scaly.fit_transform(X_train[['valence','acousticness','danceability','duration_ms','energy','key','liveness','loudness','speechiness','tempo']])\n",
    "\n",
    "X_train.head()"
   ]
  },
  {
   "cell_type": "code",
   "execution_count": 24,
   "metadata": {},
   "outputs": [],
   "source": [
    "logreg_model = LogisticRegression()"
   ]
  },
  {
   "cell_type": "code",
   "execution_count": 25,
   "metadata": {},
   "outputs": [],
   "source": [
    "rfe = RFE(logreg_model, 10)   "
   ]
  },
  {
   "cell_type": "code",
   "execution_count": 26,
   "metadata": {},
   "outputs": [],
   "source": [
    "rfe = rfe.fit(X_train, y_train)"
   ]
  },
  {
   "cell_type": "code",
   "execution_count": 27,
   "metadata": {},
   "outputs": [
    {
     "data": {
      "text/plain": [
       "array([ True,  True,  True, False,  True,  True, False,  True,  True,\n",
       "        True,  True,  True, False])"
      ]
     },
     "execution_count": 27,
     "metadata": {},
     "output_type": "execute_result"
    }
   ],
   "source": [
    "rfe.support_"
   ]
  },
  {
   "cell_type": "code",
   "execution_count": 28,
   "metadata": {},
   "outputs": [
    {
     "data": {
      "text/plain": [
       "[('valence', True, 1),\n",
       " ('acousticness', True, 1),\n",
       " ('danceability', True, 1),\n",
       " ('duration_ms', False, 4),\n",
       " ('energy', True, 1),\n",
       " ('explicit', True, 1),\n",
       " ('key', False, 2),\n",
       " ('liveness', True, 1),\n",
       " ('loudness', True, 1),\n",
       " ('mode', True, 1),\n",
       " ('release_date', True, 1),\n",
       " ('speechiness', True, 1),\n",
       " ('tempo', False, 3)]"
      ]
     },
     "execution_count": 28,
     "metadata": {},
     "output_type": "execute_result"
    }
   ],
   "source": [
    "list(zip(X_train.columns, rfe.support_, rfe.ranking_))"
   ]
  },
  {
   "cell_type": "code",
   "execution_count": 29,
   "metadata": {},
   "outputs": [
    {
     "data": {
      "text/plain": [
       "Index(['valence', 'acousticness', 'danceability', 'energy', 'explicit',\n",
       "       'liveness', 'loudness', 'mode', 'release_date', 'speechiness'],\n",
       "      dtype='object')"
      ]
     },
     "execution_count": 29,
     "metadata": {},
     "output_type": "execute_result"
    }
   ],
   "source": [
    "col = X_train.columns[rfe.support_]  #accepted features \n",
    "col"
   ]
  },
  {
   "cell_type": "code",
   "execution_count": 30,
   "metadata": {},
   "outputs": [
    {
     "data": {
      "text/plain": [
       "Index(['duration_ms', 'key', 'tempo'], dtype='object')"
      ]
     },
     "execution_count": 30,
     "metadata": {},
     "output_type": "execute_result"
    }
   ],
   "source": [
    "X_train.columns[~rfe.support_]  #rejected features "
   ]
  },
  {
   "cell_type": "code",
   "execution_count": 31,
   "metadata": {},
   "outputs": [
    {
     "data": {
      "text/html": [
       "<table class=\"simpletable\">\n",
       "<caption>Generalized Linear Model Regression Results</caption>\n",
       "<tr>\n",
       "  <th>Dep. Variable:</th>    <td>popularity_bin</td>  <th>  No. Observations:  </th>  <td>119457</td> \n",
       "</tr>\n",
       "<tr>\n",
       "  <th>Model:</th>                  <td>GLM</td>       <th>  Df Residuals:      </th>  <td>119446</td> \n",
       "</tr>\n",
       "<tr>\n",
       "  <th>Model Family:</th>        <td>Binomial</td>     <th>  Df Model:          </th>  <td>    10</td> \n",
       "</tr>\n",
       "<tr>\n",
       "  <th>Link Function:</th>         <td>logit</td>      <th>  Scale:             </th> <td>  1.0000</td>\n",
       "</tr>\n",
       "<tr>\n",
       "  <th>Method:</th>                <td>IRLS</td>       <th>  Log-Likelihood:    </th> <td> -14996.</td>\n",
       "</tr>\n",
       "<tr>\n",
       "  <th>Date:</th>            <td>Wed, 16 Dec 2020</td> <th>  Deviance:          </th> <td>  29992.</td>\n",
       "</tr>\n",
       "<tr>\n",
       "  <th>Time:</th>                <td>18:38:05</td>     <th>  Pearson chi2:      </th> <td>9.43e+04</td>\n",
       "</tr>\n",
       "<tr>\n",
       "  <th>No. Iterations:</th>          <td>8</td>        <th>                     </th>     <td> </td>   \n",
       "</tr>\n",
       "<tr>\n",
       "  <th>Covariance Type:</th>     <td>nonrobust</td>    <th>                     </th>     <td> </td>   \n",
       "</tr>\n",
       "</table>\n",
       "<table class=\"simpletable\">\n",
       "<tr>\n",
       "        <td></td>          <th>coef</th>     <th>std err</th>      <th>z</th>      <th>P>|z|</th>  <th>[0.025</th>    <th>0.975]</th>  \n",
       "</tr>\n",
       "<tr>\n",
       "  <th>const</th>        <td>   -4.2506</td> <td>    0.037</td> <td> -115.106</td> <td> 0.000</td> <td>   -4.323</td> <td>   -4.178</td>\n",
       "</tr>\n",
       "<tr>\n",
       "  <th>valence</th>      <td>   -0.1004</td> <td>    0.021</td> <td>   -4.723</td> <td> 0.000</td> <td>   -0.142</td> <td>   -0.059</td>\n",
       "</tr>\n",
       "<tr>\n",
       "  <th>acousticness</th> <td>   -0.2836</td> <td>    0.028</td> <td>  -10.094</td> <td> 0.000</td> <td>   -0.339</td> <td>   -0.229</td>\n",
       "</tr>\n",
       "<tr>\n",
       "  <th>danceability</th> <td>    0.2165</td> <td>    0.022</td> <td>    9.874</td> <td> 0.000</td> <td>    0.174</td> <td>    0.260</td>\n",
       "</tr>\n",
       "<tr>\n",
       "  <th>energy</th>       <td>   -0.2121</td> <td>    0.036</td> <td>   -5.905</td> <td> 0.000</td> <td>   -0.282</td> <td>   -0.142</td>\n",
       "</tr>\n",
       "<tr>\n",
       "  <th>explicit</th>     <td>    0.2272</td> <td>    0.046</td> <td>    4.949</td> <td> 0.000</td> <td>    0.137</td> <td>    0.317</td>\n",
       "</tr>\n",
       "<tr>\n",
       "  <th>liveness</th>     <td>   -0.1016</td> <td>    0.017</td> <td>   -5.927</td> <td> 0.000</td> <td>   -0.135</td> <td>   -0.068</td>\n",
       "</tr>\n",
       "<tr>\n",
       "  <th>loudness</th>     <td>    0.8569</td> <td>    0.036</td> <td>   23.494</td> <td> 0.000</td> <td>    0.785</td> <td>    0.928</td>\n",
       "</tr>\n",
       "<tr>\n",
       "  <th>mode</th>         <td>   -0.0191</td> <td>    0.034</td> <td>   -0.558</td> <td> 0.577</td> <td>   -0.086</td> <td>    0.048</td>\n",
       "</tr>\n",
       "<tr>\n",
       "  <th>release_date</th> <td>    2.8090</td> <td>    0.037</td> <td>   75.651</td> <td> 0.000</td> <td>    2.736</td> <td>    2.882</td>\n",
       "</tr>\n",
       "<tr>\n",
       "  <th>speechiness</th>  <td>   -0.0747</td> <td>    0.018</td> <td>   -4.264</td> <td> 0.000</td> <td>   -0.109</td> <td>   -0.040</td>\n",
       "</tr>\n",
       "</table>"
      ],
      "text/plain": [
       "<class 'statsmodels.iolib.summary.Summary'>\n",
       "\"\"\"\n",
       "                 Generalized Linear Model Regression Results                  \n",
       "==============================================================================\n",
       "Dep. Variable:         popularity_bin   No. Observations:               119457\n",
       "Model:                            GLM   Df Residuals:                   119446\n",
       "Model Family:                Binomial   Df Model:                           10\n",
       "Link Function:                  logit   Scale:                          1.0000\n",
       "Method:                          IRLS   Log-Likelihood:                -14996.\n",
       "Date:                Wed, 16 Dec 2020   Deviance:                       29992.\n",
       "Time:                        18:38:05   Pearson chi2:                 9.43e+04\n",
       "No. Iterations:                     8                                         \n",
       "Covariance Type:            nonrobust                                         \n",
       "================================================================================\n",
       "                   coef    std err          z      P>|z|      [0.025      0.975]\n",
       "--------------------------------------------------------------------------------\n",
       "const           -4.2506      0.037   -115.106      0.000      -4.323      -4.178\n",
       "valence         -0.1004      0.021     -4.723      0.000      -0.142      -0.059\n",
       "acousticness    -0.2836      0.028    -10.094      0.000      -0.339      -0.229\n",
       "danceability     0.2165      0.022      9.874      0.000       0.174       0.260\n",
       "energy          -0.2121      0.036     -5.905      0.000      -0.282      -0.142\n",
       "explicit         0.2272      0.046      4.949      0.000       0.137       0.317\n",
       "liveness        -0.1016      0.017     -5.927      0.000      -0.135      -0.068\n",
       "loudness         0.8569      0.036     23.494      0.000       0.785       0.928\n",
       "mode            -0.0191      0.034     -0.558      0.577      -0.086       0.048\n",
       "release_date     2.8090      0.037     75.651      0.000       2.736       2.882\n",
       "speechiness     -0.0747      0.018     -4.264      0.000      -0.109      -0.040\n",
       "================================================================================\n",
       "\"\"\""
      ]
     },
     "execution_count": 31,
     "metadata": {},
     "output_type": "execute_result"
    }
   ],
   "source": [
    "X_train_sm = sm.add_constant(X_train[col])\n",
    "logm2 = sm.GLM(y_train,X_train_sm, family = sm.families.Binomial())\n",
    "res = logm2.fit()\n",
    "res.summary()"
   ]
  },
  {
   "cell_type": "code",
   "execution_count": 32,
   "metadata": {},
   "outputs": [],
   "source": [
    "X_train.drop(columns=['mode'],inplace=True)"
   ]
  },
  {
   "cell_type": "code",
   "execution_count": 33,
   "metadata": {},
   "outputs": [],
   "source": [
    "rfe = rfe.fit(X_train, y_train)"
   ]
  },
  {
   "cell_type": "code",
   "execution_count": 34,
   "metadata": {},
   "outputs": [
    {
     "data": {
      "text/plain": [
       "array([ True,  True,  True, False,  True,  True,  True,  True,  True,\n",
       "        True,  True, False])"
      ]
     },
     "execution_count": 34,
     "metadata": {},
     "output_type": "execute_result"
    }
   ],
   "source": [
    "rfe.support_"
   ]
  },
  {
   "cell_type": "code",
   "execution_count": 35,
   "metadata": {},
   "outputs": [
    {
     "data": {
      "text/plain": [
       "Index(['valence', 'acousticness', 'danceability', 'energy', 'explicit', 'key',\n",
       "       'liveness', 'loudness', 'release_date', 'speechiness'],\n",
       "      dtype='object')"
      ]
     },
     "execution_count": 35,
     "metadata": {},
     "output_type": "execute_result"
    }
   ],
   "source": [
    "col2 = X_train.columns[rfe.support_]  #accepted features \n",
    "col2"
   ]
  },
  {
   "cell_type": "code",
   "execution_count": 36,
   "metadata": {},
   "outputs": [
    {
     "data": {
      "text/html": [
       "<table class=\"simpletable\">\n",
       "<caption>Generalized Linear Model Regression Results</caption>\n",
       "<tr>\n",
       "  <th>Dep. Variable:</th>    <td>popularity_bin</td>  <th>  No. Observations:  </th>  <td>119457</td> \n",
       "</tr>\n",
       "<tr>\n",
       "  <th>Model:</th>                  <td>GLM</td>       <th>  Df Residuals:      </th>  <td>119446</td> \n",
       "</tr>\n",
       "<tr>\n",
       "  <th>Model Family:</th>        <td>Binomial</td>     <th>  Df Model:          </th>  <td>    10</td> \n",
       "</tr>\n",
       "<tr>\n",
       "  <th>Link Function:</th>         <td>logit</td>      <th>  Scale:             </th> <td>  1.0000</td>\n",
       "</tr>\n",
       "<tr>\n",
       "  <th>Method:</th>                <td>IRLS</td>       <th>  Log-Likelihood:    </th> <td> -14996.</td>\n",
       "</tr>\n",
       "<tr>\n",
       "  <th>Date:</th>            <td>Wed, 16 Dec 2020</td> <th>  Deviance:          </th> <td>  29992.</td>\n",
       "</tr>\n",
       "<tr>\n",
       "  <th>Time:</th>                <td>18:38:07</td>     <th>  Pearson chi2:      </th> <td>9.42e+04</td>\n",
       "</tr>\n",
       "<tr>\n",
       "  <th>No. Iterations:</th>          <td>8</td>        <th>                     </th>     <td> </td>   \n",
       "</tr>\n",
       "<tr>\n",
       "  <th>Covariance Type:</th>     <td>nonrobust</td>    <th>                     </th>     <td> </td>   \n",
       "</tr>\n",
       "</table>\n",
       "<table class=\"simpletable\">\n",
       "<tr>\n",
       "        <td></td>          <th>coef</th>     <th>std err</th>      <th>z</th>      <th>P>|z|</th>  <th>[0.025</th>    <th>0.975]</th>  \n",
       "</tr>\n",
       "<tr>\n",
       "  <th>const</th>        <td>   -4.2643</td> <td>    0.028</td> <td> -154.588</td> <td> 0.000</td> <td>   -4.318</td> <td>   -4.210</td>\n",
       "</tr>\n",
       "<tr>\n",
       "  <th>valence</th>      <td>   -0.1005</td> <td>    0.021</td> <td>   -4.725</td> <td> 0.000</td> <td>   -0.142</td> <td>   -0.059</td>\n",
       "</tr>\n",
       "<tr>\n",
       "  <th>acousticness</th> <td>   -0.2837</td> <td>    0.028</td> <td>  -10.096</td> <td> 0.000</td> <td>   -0.339</td> <td>   -0.229</td>\n",
       "</tr>\n",
       "<tr>\n",
       "  <th>danceability</th> <td>    0.2170</td> <td>    0.022</td> <td>    9.902</td> <td> 0.000</td> <td>    0.174</td> <td>    0.260</td>\n",
       "</tr>\n",
       "<tr>\n",
       "  <th>energy</th>       <td>   -0.2113</td> <td>    0.036</td> <td>   -5.887</td> <td> 0.000</td> <td>   -0.282</td> <td>   -0.141</td>\n",
       "</tr>\n",
       "<tr>\n",
       "  <th>explicit</th>     <td>    0.2279</td> <td>    0.046</td> <td>    4.965</td> <td> 0.000</td> <td>    0.138</td> <td>    0.318</td>\n",
       "</tr>\n",
       "<tr>\n",
       "  <th>key</th>          <td>   -0.0043</td> <td>    0.016</td> <td>   -0.271</td> <td> 0.787</td> <td>   -0.035</td> <td>    0.027</td>\n",
       "</tr>\n",
       "<tr>\n",
       "  <th>liveness</th>     <td>   -0.1017</td> <td>    0.017</td> <td>   -5.929</td> <td> 0.000</td> <td>   -0.135</td> <td>   -0.068</td>\n",
       "</tr>\n",
       "<tr>\n",
       "  <th>loudness</th>     <td>    0.8566</td> <td>    0.036</td> <td>   23.489</td> <td> 0.000</td> <td>    0.785</td> <td>    0.928</td>\n",
       "</tr>\n",
       "<tr>\n",
       "  <th>release_date</th> <td>    2.8100</td> <td>    0.037</td> <td>   75.745</td> <td> 0.000</td> <td>    2.737</td> <td>    2.883</td>\n",
       "</tr>\n",
       "<tr>\n",
       "  <th>speechiness</th>  <td>   -0.0739</td> <td>    0.017</td> <td>   -4.225</td> <td> 0.000</td> <td>   -0.108</td> <td>   -0.040</td>\n",
       "</tr>\n",
       "</table>"
      ],
      "text/plain": [
       "<class 'statsmodels.iolib.summary.Summary'>\n",
       "\"\"\"\n",
       "                 Generalized Linear Model Regression Results                  \n",
       "==============================================================================\n",
       "Dep. Variable:         popularity_bin   No. Observations:               119457\n",
       "Model:                            GLM   Df Residuals:                   119446\n",
       "Model Family:                Binomial   Df Model:                           10\n",
       "Link Function:                  logit   Scale:                          1.0000\n",
       "Method:                          IRLS   Log-Likelihood:                -14996.\n",
       "Date:                Wed, 16 Dec 2020   Deviance:                       29992.\n",
       "Time:                        18:38:07   Pearson chi2:                 9.42e+04\n",
       "No. Iterations:                     8                                         \n",
       "Covariance Type:            nonrobust                                         \n",
       "================================================================================\n",
       "                   coef    std err          z      P>|z|      [0.025      0.975]\n",
       "--------------------------------------------------------------------------------\n",
       "const           -4.2643      0.028   -154.588      0.000      -4.318      -4.210\n",
       "valence         -0.1005      0.021     -4.725      0.000      -0.142      -0.059\n",
       "acousticness    -0.2837      0.028    -10.096      0.000      -0.339      -0.229\n",
       "danceability     0.2170      0.022      9.902      0.000       0.174       0.260\n",
       "energy          -0.2113      0.036     -5.887      0.000      -0.282      -0.141\n",
       "explicit         0.2279      0.046      4.965      0.000       0.138       0.318\n",
       "key             -0.0043      0.016     -0.271      0.787      -0.035       0.027\n",
       "liveness        -0.1017      0.017     -5.929      0.000      -0.135      -0.068\n",
       "loudness         0.8566      0.036     23.489      0.000       0.785       0.928\n",
       "release_date     2.8100      0.037     75.745      0.000       2.737       2.883\n",
       "speechiness     -0.0739      0.017     -4.225      0.000      -0.108      -0.040\n",
       "================================================================================\n",
       "\"\"\""
      ]
     },
     "execution_count": 36,
     "metadata": {},
     "output_type": "execute_result"
    }
   ],
   "source": [
    "X_train_sm = sm.add_constant(X_train[col2])\n",
    "logm2 = sm.GLM(y_train,X_train_sm, family = sm.families.Binomial())\n",
    "res = logm2.fit()\n",
    "res.summary()"
   ]
  },
  {
   "cell_type": "code",
   "execution_count": 37,
   "metadata": {},
   "outputs": [],
   "source": [
    "X_train.drop(columns=['key'],inplace=True)"
   ]
  },
  {
   "cell_type": "code",
   "execution_count": 38,
   "metadata": {},
   "outputs": [],
   "source": [
    "rfe = rfe.fit(X_train, y_train)"
   ]
  },
  {
   "cell_type": "code",
   "execution_count": 39,
   "metadata": {},
   "outputs": [
    {
     "data": {
      "text/plain": [
       "Index(['valence', 'acousticness', 'danceability', 'energy', 'explicit',\n",
       "       'liveness', 'loudness', 'release_date', 'speechiness', 'tempo'],\n",
       "      dtype='object')"
      ]
     },
     "execution_count": 39,
     "metadata": {},
     "output_type": "execute_result"
    }
   ],
   "source": [
    "col3 = X_train.columns[rfe.support_]  #accepted features \n",
    "col3"
   ]
  },
  {
   "cell_type": "code",
   "execution_count": 40,
   "metadata": {},
   "outputs": [
    {
     "data": {
      "text/html": [
       "<table class=\"simpletable\">\n",
       "<caption>Generalized Linear Model Regression Results</caption>\n",
       "<tr>\n",
       "  <th>Dep. Variable:</th>    <td>popularity_bin</td>  <th>  No. Observations:  </th>  <td>119457</td> \n",
       "</tr>\n",
       "<tr>\n",
       "  <th>Model:</th>                  <td>GLM</td>       <th>  Df Residuals:      </th>  <td>119446</td> \n",
       "</tr>\n",
       "<tr>\n",
       "  <th>Model Family:</th>        <td>Binomial</td>     <th>  Df Model:          </th>  <td>    10</td> \n",
       "</tr>\n",
       "<tr>\n",
       "  <th>Link Function:</th>         <td>logit</td>      <th>  Scale:             </th> <td>  1.0000</td>\n",
       "</tr>\n",
       "<tr>\n",
       "  <th>Method:</th>                <td>IRLS</td>       <th>  Log-Likelihood:    </th> <td> -14996.</td>\n",
       "</tr>\n",
       "<tr>\n",
       "  <th>Date:</th>            <td>Wed, 16 Dec 2020</td> <th>  Deviance:          </th> <td>  29992.</td>\n",
       "</tr>\n",
       "<tr>\n",
       "  <th>Time:</th>                <td>18:38:09</td>     <th>  Pearson chi2:      </th> <td>9.42e+04</td>\n",
       "</tr>\n",
       "<tr>\n",
       "  <th>No. Iterations:</th>          <td>8</td>        <th>                     </th>     <td> </td>   \n",
       "</tr>\n",
       "<tr>\n",
       "  <th>Covariance Type:</th>     <td>nonrobust</td>    <th>                     </th>     <td> </td>   \n",
       "</tr>\n",
       "</table>\n",
       "<table class=\"simpletable\">\n",
       "<tr>\n",
       "        <td></td>          <th>coef</th>     <th>std err</th>      <th>z</th>      <th>P>|z|</th>  <th>[0.025</th>    <th>0.975]</th>  \n",
       "</tr>\n",
       "<tr>\n",
       "  <th>const</th>        <td>   -4.2643</td> <td>    0.028</td> <td> -154.586</td> <td> 0.000</td> <td>   -4.318</td> <td>   -4.210</td>\n",
       "</tr>\n",
       "<tr>\n",
       "  <th>valence</th>      <td>   -0.1007</td> <td>    0.021</td> <td>   -4.729</td> <td> 0.000</td> <td>   -0.142</td> <td>   -0.059</td>\n",
       "</tr>\n",
       "<tr>\n",
       "  <th>acousticness</th> <td>   -0.2837</td> <td>    0.028</td> <td>  -10.067</td> <td> 0.000</td> <td>   -0.339</td> <td>   -0.228</td>\n",
       "</tr>\n",
       "<tr>\n",
       "  <th>danceability</th> <td>    0.2171</td> <td>    0.022</td> <td>    9.853</td> <td> 0.000</td> <td>    0.174</td> <td>    0.260</td>\n",
       "</tr>\n",
       "<tr>\n",
       "  <th>energy</th>       <td>   -0.2115</td> <td>    0.036</td> <td>   -5.886</td> <td> 0.000</td> <td>   -0.282</td> <td>   -0.141</td>\n",
       "</tr>\n",
       "<tr>\n",
       "  <th>explicit</th>     <td>    0.2281</td> <td>    0.046</td> <td>    4.971</td> <td> 0.000</td> <td>    0.138</td> <td>    0.318</td>\n",
       "</tr>\n",
       "<tr>\n",
       "  <th>liveness</th>     <td>   -0.1016</td> <td>    0.017</td> <td>   -5.923</td> <td> 0.000</td> <td>   -0.135</td> <td>   -0.068</td>\n",
       "</tr>\n",
       "<tr>\n",
       "  <th>loudness</th>     <td>    0.8565</td> <td>    0.036</td> <td>   23.487</td> <td> 0.000</td> <td>    0.785</td> <td>    0.928</td>\n",
       "</tr>\n",
       "<tr>\n",
       "  <th>release_date</th> <td>    2.8099</td> <td>    0.037</td> <td>   75.611</td> <td> 0.000</td> <td>    2.737</td> <td>    2.883</td>\n",
       "</tr>\n",
       "<tr>\n",
       "  <th>speechiness</th>  <td>   -0.0740</td> <td>    0.018</td> <td>   -4.228</td> <td> 0.000</td> <td>   -0.108</td> <td>   -0.040</td>\n",
       "</tr>\n",
       "<tr>\n",
       "  <th>tempo</th>        <td>    0.0004</td> <td>    0.017</td> <td>    0.026</td> <td> 0.980</td> <td>   -0.033</td> <td>    0.034</td>\n",
       "</tr>\n",
       "</table>"
      ],
      "text/plain": [
       "<class 'statsmodels.iolib.summary.Summary'>\n",
       "\"\"\"\n",
       "                 Generalized Linear Model Regression Results                  \n",
       "==============================================================================\n",
       "Dep. Variable:         popularity_bin   No. Observations:               119457\n",
       "Model:                            GLM   Df Residuals:                   119446\n",
       "Model Family:                Binomial   Df Model:                           10\n",
       "Link Function:                  logit   Scale:                          1.0000\n",
       "Method:                          IRLS   Log-Likelihood:                -14996.\n",
       "Date:                Wed, 16 Dec 2020   Deviance:                       29992.\n",
       "Time:                        18:38:09   Pearson chi2:                 9.42e+04\n",
       "No. Iterations:                     8                                         \n",
       "Covariance Type:            nonrobust                                         \n",
       "================================================================================\n",
       "                   coef    std err          z      P>|z|      [0.025      0.975]\n",
       "--------------------------------------------------------------------------------\n",
       "const           -4.2643      0.028   -154.586      0.000      -4.318      -4.210\n",
       "valence         -0.1007      0.021     -4.729      0.000      -0.142      -0.059\n",
       "acousticness    -0.2837      0.028    -10.067      0.000      -0.339      -0.228\n",
       "danceability     0.2171      0.022      9.853      0.000       0.174       0.260\n",
       "energy          -0.2115      0.036     -5.886      0.000      -0.282      -0.141\n",
       "explicit         0.2281      0.046      4.971      0.000       0.138       0.318\n",
       "liveness        -0.1016      0.017     -5.923      0.000      -0.135      -0.068\n",
       "loudness         0.8565      0.036     23.487      0.000       0.785       0.928\n",
       "release_date     2.8099      0.037     75.611      0.000       2.737       2.883\n",
       "speechiness     -0.0740      0.018     -4.228      0.000      -0.108      -0.040\n",
       "tempo            0.0004      0.017      0.026      0.980      -0.033       0.034\n",
       "================================================================================\n",
       "\"\"\""
      ]
     },
     "execution_count": 40,
     "metadata": {},
     "output_type": "execute_result"
    }
   ],
   "source": [
    "X_train_sm = sm.add_constant(X_train[col3])\n",
    "logm2 = sm.GLM(y_train,X_train_sm, family = sm.families.Binomial())\n",
    "res = logm2.fit()\n",
    "res.summary()"
   ]
  },
  {
   "cell_type": "code",
   "execution_count": 41,
   "metadata": {},
   "outputs": [],
   "source": [
    "X_train.drop(columns=['tempo'],inplace=True)"
   ]
  },
  {
   "cell_type": "code",
   "execution_count": 42,
   "metadata": {},
   "outputs": [],
   "source": [
    "rfe = rfe.fit(X_train, y_train)"
   ]
  },
  {
   "cell_type": "code",
   "execution_count": 43,
   "metadata": {},
   "outputs": [
    {
     "data": {
      "text/plain": [
       "Index(['valence', 'acousticness', 'danceability', 'duration_ms', 'energy',\n",
       "       'explicit', 'liveness', 'loudness', 'release_date', 'speechiness'],\n",
       "      dtype='object')"
      ]
     },
     "execution_count": 43,
     "metadata": {},
     "output_type": "execute_result"
    }
   ],
   "source": [
    "col4 = X_train.columns[rfe.support_]  #accepted features \n",
    "col4"
   ]
  },
  {
   "cell_type": "code",
   "execution_count": 44,
   "metadata": {},
   "outputs": [
    {
     "data": {
      "text/html": [
       "<table class=\"simpletable\">\n",
       "<caption>Generalized Linear Model Regression Results</caption>\n",
       "<tr>\n",
       "  <th>Dep. Variable:</th>    <td>popularity_bin</td>  <th>  No. Observations:  </th>  <td>119457</td> \n",
       "</tr>\n",
       "<tr>\n",
       "  <th>Model:</th>                  <td>GLM</td>       <th>  Df Residuals:      </th>  <td>119446</td> \n",
       "</tr>\n",
       "<tr>\n",
       "  <th>Model Family:</th>        <td>Binomial</td>     <th>  Df Model:          </th>  <td>    10</td> \n",
       "</tr>\n",
       "<tr>\n",
       "  <th>Link Function:</th>         <td>logit</td>      <th>  Scale:             </th> <td>  1.0000</td>\n",
       "</tr>\n",
       "<tr>\n",
       "  <th>Method:</th>                <td>IRLS</td>       <th>  Log-Likelihood:    </th> <td> -14996.</td>\n",
       "</tr>\n",
       "<tr>\n",
       "  <th>Date:</th>            <td>Wed, 16 Dec 2020</td> <th>  Deviance:          </th> <td>  29992.</td>\n",
       "</tr>\n",
       "<tr>\n",
       "  <th>Time:</th>                <td>18:38:10</td>     <th>  Pearson chi2:      </th> <td>9.42e+04</td>\n",
       "</tr>\n",
       "<tr>\n",
       "  <th>No. Iterations:</th>          <td>8</td>        <th>                     </th>     <td> </td>   \n",
       "</tr>\n",
       "<tr>\n",
       "  <th>Covariance Type:</th>     <td>nonrobust</td>    <th>                     </th>     <td> </td>   \n",
       "</tr>\n",
       "</table>\n",
       "<table class=\"simpletable\">\n",
       "<tr>\n",
       "        <td></td>          <th>coef</th>     <th>std err</th>      <th>z</th>      <th>P>|z|</th>  <th>[0.025</th>    <th>0.975]</th>  \n",
       "</tr>\n",
       "<tr>\n",
       "  <th>const</th>        <td>   -4.2644</td> <td>    0.028</td> <td> -154.383</td> <td> 0.000</td> <td>   -4.318</td> <td>   -4.210</td>\n",
       "</tr>\n",
       "<tr>\n",
       "  <th>valence</th>      <td>   -0.1005</td> <td>    0.022</td> <td>   -4.622</td> <td> 0.000</td> <td>   -0.143</td> <td>   -0.058</td>\n",
       "</tr>\n",
       "<tr>\n",
       "  <th>acousticness</th> <td>   -0.2836</td> <td>    0.028</td> <td>  -10.024</td> <td> 0.000</td> <td>   -0.339</td> <td>   -0.228</td>\n",
       "</tr>\n",
       "<tr>\n",
       "  <th>danceability</th> <td>    0.2170</td> <td>    0.022</td> <td>    9.903</td> <td> 0.000</td> <td>    0.174</td> <td>    0.260</td>\n",
       "</tr>\n",
       "<tr>\n",
       "  <th>duration_ms</th>  <td>    0.0006</td> <td>    0.019</td> <td>    0.031</td> <td> 0.975</td> <td>   -0.038</td> <td>    0.039</td>\n",
       "</tr>\n",
       "<tr>\n",
       "  <th>energy</th>       <td>   -0.2115</td> <td>    0.036</td> <td>   -5.880</td> <td> 0.000</td> <td>   -0.282</td> <td>   -0.141</td>\n",
       "</tr>\n",
       "<tr>\n",
       "  <th>explicit</th>     <td>    0.2282</td> <td>    0.046</td> <td>    4.966</td> <td> 0.000</td> <td>    0.138</td> <td>    0.318</td>\n",
       "</tr>\n",
       "<tr>\n",
       "  <th>liveness</th>     <td>   -0.1016</td> <td>    0.017</td> <td>   -5.922</td> <td> 0.000</td> <td>   -0.135</td> <td>   -0.068</td>\n",
       "</tr>\n",
       "<tr>\n",
       "  <th>loudness</th>     <td>    0.8565</td> <td>    0.036</td> <td>   23.488</td> <td> 0.000</td> <td>    0.785</td> <td>    0.928</td>\n",
       "</tr>\n",
       "<tr>\n",
       "  <th>release_date</th> <td>    2.8101</td> <td>    0.038</td> <td>   74.393</td> <td> 0.000</td> <td>    2.736</td> <td>    2.884</td>\n",
       "</tr>\n",
       "<tr>\n",
       "  <th>speechiness</th>  <td>   -0.0740</td> <td>    0.017</td> <td>   -4.227</td> <td> 0.000</td> <td>   -0.108</td> <td>   -0.040</td>\n",
       "</tr>\n",
       "</table>"
      ],
      "text/plain": [
       "<class 'statsmodels.iolib.summary.Summary'>\n",
       "\"\"\"\n",
       "                 Generalized Linear Model Regression Results                  \n",
       "==============================================================================\n",
       "Dep. Variable:         popularity_bin   No. Observations:               119457\n",
       "Model:                            GLM   Df Residuals:                   119446\n",
       "Model Family:                Binomial   Df Model:                           10\n",
       "Link Function:                  logit   Scale:                          1.0000\n",
       "Method:                          IRLS   Log-Likelihood:                -14996.\n",
       "Date:                Wed, 16 Dec 2020   Deviance:                       29992.\n",
       "Time:                        18:38:10   Pearson chi2:                 9.42e+04\n",
       "No. Iterations:                     8                                         \n",
       "Covariance Type:            nonrobust                                         \n",
       "================================================================================\n",
       "                   coef    std err          z      P>|z|      [0.025      0.975]\n",
       "--------------------------------------------------------------------------------\n",
       "const           -4.2644      0.028   -154.383      0.000      -4.318      -4.210\n",
       "valence         -0.1005      0.022     -4.622      0.000      -0.143      -0.058\n",
       "acousticness    -0.2836      0.028    -10.024      0.000      -0.339      -0.228\n",
       "danceability     0.2170      0.022      9.903      0.000       0.174       0.260\n",
       "duration_ms      0.0006      0.019      0.031      0.975      -0.038       0.039\n",
       "energy          -0.2115      0.036     -5.880      0.000      -0.282      -0.141\n",
       "explicit         0.2282      0.046      4.966      0.000       0.138       0.318\n",
       "liveness        -0.1016      0.017     -5.922      0.000      -0.135      -0.068\n",
       "loudness         0.8565      0.036     23.488      0.000       0.785       0.928\n",
       "release_date     2.8101      0.038     74.393      0.000       2.736       2.884\n",
       "speechiness     -0.0740      0.017     -4.227      0.000      -0.108      -0.040\n",
       "================================================================================\n",
       "\"\"\""
      ]
     },
     "execution_count": 44,
     "metadata": {},
     "output_type": "execute_result"
    }
   ],
   "source": [
    "X_train_sm = sm.add_constant(X_train[col4])\n",
    "logm2 = sm.GLM(y_train,X_train_sm, family = sm.families.Binomial())\n",
    "res = logm2.fit()\n",
    "res.summary()"
   ]
  },
  {
   "cell_type": "code",
   "execution_count": 45,
   "metadata": {},
   "outputs": [],
   "source": [
    "X_train.drop(columns=['duration_ms'],inplace=True)"
   ]
  },
  {
   "cell_type": "code",
   "execution_count": 46,
   "metadata": {},
   "outputs": [],
   "source": [
    "rfe = rfe.fit(X_train, y_train)"
   ]
  },
  {
   "cell_type": "code",
   "execution_count": 47,
   "metadata": {},
   "outputs": [
    {
     "data": {
      "text/plain": [
       "Index(['valence', 'acousticness', 'danceability', 'energy', 'explicit',\n",
       "       'liveness', 'loudness', 'release_date', 'speechiness'],\n",
       "      dtype='object')"
      ]
     },
     "execution_count": 47,
     "metadata": {},
     "output_type": "execute_result"
    }
   ],
   "source": [
    "col5 = X_train.columns[rfe.support_]  #accepted features \n",
    "col5"
   ]
  },
  {
   "cell_type": "code",
   "execution_count": 48,
   "metadata": {},
   "outputs": [
    {
     "data": {
      "text/html": [
       "<table class=\"simpletable\">\n",
       "<caption>Generalized Linear Model Regression Results</caption>\n",
       "<tr>\n",
       "  <th>Dep. Variable:</th>    <td>popularity_bin</td>  <th>  No. Observations:  </th>  <td>119457</td> \n",
       "</tr>\n",
       "<tr>\n",
       "  <th>Model:</th>                  <td>GLM</td>       <th>  Df Residuals:      </th>  <td>119447</td> \n",
       "</tr>\n",
       "<tr>\n",
       "  <th>Model Family:</th>        <td>Binomial</td>     <th>  Df Model:          </th>  <td>     9</td> \n",
       "</tr>\n",
       "<tr>\n",
       "  <th>Link Function:</th>         <td>logit</td>      <th>  Scale:             </th> <td>  1.0000</td>\n",
       "</tr>\n",
       "<tr>\n",
       "  <th>Method:</th>                <td>IRLS</td>       <th>  Log-Likelihood:    </th> <td> -14996.</td>\n",
       "</tr>\n",
       "<tr>\n",
       "  <th>Date:</th>            <td>Wed, 16 Dec 2020</td> <th>  Deviance:          </th> <td>  29992.</td>\n",
       "</tr>\n",
       "<tr>\n",
       "  <th>Time:</th>                <td>18:38:11</td>     <th>  Pearson chi2:      </th> <td>9.42e+04</td>\n",
       "</tr>\n",
       "<tr>\n",
       "  <th>No. Iterations:</th>          <td>8</td>        <th>                     </th>     <td> </td>   \n",
       "</tr>\n",
       "<tr>\n",
       "  <th>Covariance Type:</th>     <td>nonrobust</td>    <th>                     </th>     <td> </td>   \n",
       "</tr>\n",
       "</table>\n",
       "<table class=\"simpletable\">\n",
       "<tr>\n",
       "        <td></td>          <th>coef</th>     <th>std err</th>      <th>z</th>      <th>P>|z|</th>  <th>[0.025</th>    <th>0.975]</th>  \n",
       "</tr>\n",
       "<tr>\n",
       "  <th>const</th>        <td>   -4.2643</td> <td>    0.028</td> <td> -154.587</td> <td> 0.000</td> <td>   -4.318</td> <td>   -4.210</td>\n",
       "</tr>\n",
       "<tr>\n",
       "  <th>valence</th>      <td>   -0.1006</td> <td>    0.021</td> <td>   -4.736</td> <td> 0.000</td> <td>   -0.142</td> <td>   -0.059</td>\n",
       "</tr>\n",
       "<tr>\n",
       "  <th>acousticness</th> <td>   -0.2837</td> <td>    0.028</td> <td>  -10.098</td> <td> 0.000</td> <td>   -0.339</td> <td>   -0.229</td>\n",
       "</tr>\n",
       "<tr>\n",
       "  <th>danceability</th> <td>    0.2170</td> <td>    0.022</td> <td>    9.905</td> <td> 0.000</td> <td>    0.174</td> <td>    0.260</td>\n",
       "</tr>\n",
       "<tr>\n",
       "  <th>energy</th>       <td>   -0.2114</td> <td>    0.036</td> <td>   -5.891</td> <td> 0.000</td> <td>   -0.282</td> <td>   -0.141</td>\n",
       "</tr>\n",
       "<tr>\n",
       "  <th>explicit</th>     <td>    0.2281</td> <td>    0.046</td> <td>    4.971</td> <td> 0.000</td> <td>    0.138</td> <td>    0.318</td>\n",
       "</tr>\n",
       "<tr>\n",
       "  <th>liveness</th>     <td>   -0.1016</td> <td>    0.017</td> <td>   -5.926</td> <td> 0.000</td> <td>   -0.135</td> <td>   -0.068</td>\n",
       "</tr>\n",
       "<tr>\n",
       "  <th>loudness</th>     <td>    0.8565</td> <td>    0.036</td> <td>   23.488</td> <td> 0.000</td> <td>    0.785</td> <td>    0.928</td>\n",
       "</tr>\n",
       "<tr>\n",
       "  <th>release_date</th> <td>    2.8099</td> <td>    0.037</td> <td>   75.747</td> <td> 0.000</td> <td>    2.737</td> <td>    2.883</td>\n",
       "</tr>\n",
       "<tr>\n",
       "  <th>speechiness</th>  <td>   -0.0740</td> <td>    0.017</td> <td>   -4.235</td> <td> 0.000</td> <td>   -0.108</td> <td>   -0.040</td>\n",
       "</tr>\n",
       "</table>"
      ],
      "text/plain": [
       "<class 'statsmodels.iolib.summary.Summary'>\n",
       "\"\"\"\n",
       "                 Generalized Linear Model Regression Results                  \n",
       "==============================================================================\n",
       "Dep. Variable:         popularity_bin   No. Observations:               119457\n",
       "Model:                            GLM   Df Residuals:                   119447\n",
       "Model Family:                Binomial   Df Model:                            9\n",
       "Link Function:                  logit   Scale:                          1.0000\n",
       "Method:                          IRLS   Log-Likelihood:                -14996.\n",
       "Date:                Wed, 16 Dec 2020   Deviance:                       29992.\n",
       "Time:                        18:38:11   Pearson chi2:                 9.42e+04\n",
       "No. Iterations:                     8                                         \n",
       "Covariance Type:            nonrobust                                         \n",
       "================================================================================\n",
       "                   coef    std err          z      P>|z|      [0.025      0.975]\n",
       "--------------------------------------------------------------------------------\n",
       "const           -4.2643      0.028   -154.587      0.000      -4.318      -4.210\n",
       "valence         -0.1006      0.021     -4.736      0.000      -0.142      -0.059\n",
       "acousticness    -0.2837      0.028    -10.098      0.000      -0.339      -0.229\n",
       "danceability     0.2170      0.022      9.905      0.000       0.174       0.260\n",
       "energy          -0.2114      0.036     -5.891      0.000      -0.282      -0.141\n",
       "explicit         0.2281      0.046      4.971      0.000       0.138       0.318\n",
       "liveness        -0.1016      0.017     -5.926      0.000      -0.135      -0.068\n",
       "loudness         0.8565      0.036     23.488      0.000       0.785       0.928\n",
       "release_date     2.8099      0.037     75.747      0.000       2.737       2.883\n",
       "speechiness     -0.0740      0.017     -4.235      0.000      -0.108      -0.040\n",
       "================================================================================\n",
       "\"\"\""
      ]
     },
     "execution_count": 48,
     "metadata": {},
     "output_type": "execute_result"
    }
   ],
   "source": [
    "X_train_sm = sm.add_constant(X_train[col5])\n",
    "logm2 = sm.GLM(y_train,X_train_sm, family = sm.families.Binomial())\n",
    "res = logm2.fit()\n",
    "res.summary()"
   ]
  },
  {
   "cell_type": "markdown",
   "metadata": {},
   "source": [
    "##### all features seem statistically significant "
   ]
  },
  {
   "cell_type": "code",
   "execution_count": 49,
   "metadata": {},
   "outputs": [],
   "source": [
    "from sklearn.linear_model import LogisticRegression\n",
    "model = LogisticRegression()"
   ]
  },
  {
   "cell_type": "code",
   "execution_count": 50,
   "metadata": {},
   "outputs": [
    {
     "data": {
      "text/plain": [
       "LogisticRegression(C=1.0, class_weight=None, dual=False, fit_intercept=True,\n",
       "                   intercept_scaling=1, l1_ratio=None, max_iter=100,\n",
       "                   multi_class='auto', n_jobs=None, penalty='l2',\n",
       "                   random_state=None, solver='lbfgs', tol=0.0001, verbose=0,\n",
       "                   warm_start=False)"
      ]
     },
     "execution_count": 50,
     "metadata": {},
     "output_type": "execute_result"
    }
   ],
   "source": [
    "model.fit(X_train, y_train)"
   ]
  },
  {
   "cell_type": "code",
   "execution_count": 51,
   "metadata": {},
   "outputs": [
    {
     "data": {
      "text/html": [
       "<div>\n",
       "<style scoped>\n",
       "    .dataframe tbody tr th:only-of-type {\n",
       "        vertical-align: middle;\n",
       "    }\n",
       "\n",
       "    .dataframe tbody tr th {\n",
       "        vertical-align: top;\n",
       "    }\n",
       "\n",
       "    .dataframe thead th {\n",
       "        text-align: right;\n",
       "    }\n",
       "</style>\n",
       "<table border=\"1\" class=\"dataframe\">\n",
       "  <thead>\n",
       "    <tr style=\"text-align: right;\">\n",
       "      <th></th>\n",
       "      <th>valence</th>\n",
       "      <th>acousticness</th>\n",
       "      <th>danceability</th>\n",
       "      <th>duration_ms</th>\n",
       "      <th>energy</th>\n",
       "      <th>explicit</th>\n",
       "      <th>key</th>\n",
       "      <th>liveness</th>\n",
       "      <th>loudness</th>\n",
       "      <th>mode</th>\n",
       "      <th>release_date</th>\n",
       "      <th>speechiness</th>\n",
       "      <th>tempo</th>\n",
       "    </tr>\n",
       "  </thead>\n",
       "  <tbody>\n",
       "    <tr>\n",
       "      <th>32557</th>\n",
       "      <td>0.871356</td>\n",
       "      <td>-1.240057</td>\n",
       "      <td>2.275806</td>\n",
       "      <td>-0.065683</td>\n",
       "      <td>0.543873</td>\n",
       "      <td>0</td>\n",
       "      <td>-0.340696</td>\n",
       "      <td>1.569490</td>\n",
       "      <td>0.823661</td>\n",
       "      <td>0</td>\n",
       "      <td>0</td>\n",
       "      <td>1.954264</td>\n",
       "      <td>0.233392</td>\n",
       "    </tr>\n",
       "    <tr>\n",
       "      <th>120898</th>\n",
       "      <td>-0.445057</td>\n",
       "      <td>-1.334878</td>\n",
       "      <td>-0.382071</td>\n",
       "      <td>0.420951</td>\n",
       "      <td>1.703365</td>\n",
       "      <td>1</td>\n",
       "      <td>1.648029</td>\n",
       "      <td>-1.074255</td>\n",
       "      <td>1.220630</td>\n",
       "      <td>0</td>\n",
       "      <td>0</td>\n",
       "      <td>1.954264</td>\n",
       "      <td>-0.780000</td>\n",
       "    </tr>\n",
       "    <tr>\n",
       "      <th>48568</th>\n",
       "      <td>-0.886398</td>\n",
       "      <td>0.416618</td>\n",
       "      <td>-0.796655</td>\n",
       "      <td>1.552492</td>\n",
       "      <td>-0.480969</td>\n",
       "      <td>0</td>\n",
       "      <td>0.511615</td>\n",
       "      <td>-0.274744</td>\n",
       "      <td>-0.438626</td>\n",
       "      <td>0</td>\n",
       "      <td>0</td>\n",
       "      <td>-0.894916</td>\n",
       "      <td>1.342567</td>\n",
       "    </tr>\n",
       "    <tr>\n",
       "      <th>89576</th>\n",
       "      <td>-0.833132</td>\n",
       "      <td>-1.287953</td>\n",
       "      <td>0.060908</td>\n",
       "      <td>0.272701</td>\n",
       "      <td>0.970267</td>\n",
       "      <td>0</td>\n",
       "      <td>1.079822</td>\n",
       "      <td>-0.254138</td>\n",
       "      <td>1.225359</td>\n",
       "      <td>1</td>\n",
       "      <td>0</td>\n",
       "      <td>-0.315671</td>\n",
       "      <td>0.318059</td>\n",
       "    </tr>\n",
       "    <tr>\n",
       "      <th>117852</th>\n",
       "      <td>0.631663</td>\n",
       "      <td>-1.289550</td>\n",
       "      <td>-1.427049</td>\n",
       "      <td>-1.053536</td>\n",
       "      <td>0.682264</td>\n",
       "      <td>0</td>\n",
       "      <td>-0.056592</td>\n",
       "      <td>-0.254138</td>\n",
       "      <td>-1.030140</td>\n",
       "      <td>1</td>\n",
       "      <td>0</td>\n",
       "      <td>-0.383299</td>\n",
       "      <td>-0.030797</td>\n",
       "    </tr>\n",
       "  </tbody>\n",
       "</table>\n",
       "</div>"
      ],
      "text/plain": [
       "         valence  acousticness  danceability  duration_ms    energy  explicit  \\\n",
       "32557   0.871356     -1.240057      2.275806    -0.065683  0.543873         0   \n",
       "120898 -0.445057     -1.334878     -0.382071     0.420951  1.703365         1   \n",
       "48568  -0.886398      0.416618     -0.796655     1.552492 -0.480969         0   \n",
       "89576  -0.833132     -1.287953      0.060908     0.272701  0.970267         0   \n",
       "117852  0.631663     -1.289550     -1.427049    -1.053536  0.682264         0   \n",
       "\n",
       "             key  liveness  loudness  mode  release_date  speechiness  \\\n",
       "32557  -0.340696  1.569490  0.823661     0             0     1.954264   \n",
       "120898  1.648029 -1.074255  1.220630     0             0     1.954264   \n",
       "48568   0.511615 -0.274744 -0.438626     0             0    -0.894916   \n",
       "89576   1.079822 -0.254138  1.225359     1             0    -0.315671   \n",
       "117852 -0.056592 -0.254138 -1.030140     1             0    -0.383299   \n",
       "\n",
       "           tempo  \n",
       "32557   0.233392  \n",
       "120898 -0.780000  \n",
       "48568   1.342567  \n",
       "89576   0.318059  \n",
       "117852 -0.030797  "
      ]
     },
     "execution_count": 51,
     "metadata": {},
     "output_type": "execute_result"
    }
   ],
   "source": [
    "#scaling X_test\n",
    "\n",
    "\n",
    "scaly = StandardScaler()\n",
    "\n",
    "X_test[['valence','acousticness','danceability','duration_ms','energy','key','liveness','loudness','speechiness','tempo']] = scaly.fit_transform(X_test[['valence','acousticness','danceability','duration_ms','energy','key','liveness','loudness','speechiness','tempo']])\n",
    "\n",
    "X_test.head()"
   ]
  },
  {
   "cell_type": "code",
   "execution_count": 52,
   "metadata": {},
   "outputs": [],
   "source": [
    "X_test.drop(columns=['duration_ms','tempo','key','mode'],inplace=True)"
   ]
  },
  {
   "cell_type": "code",
   "execution_count": 53,
   "metadata": {},
   "outputs": [
    {
     "data": {
      "text/plain": [
       "array([0, 0, 0, ..., 0, 0, 0])"
      ]
     },
     "execution_count": 53,
     "metadata": {},
     "output_type": "execute_result"
    }
   ],
   "source": [
    "model.predict(X_test)"
   ]
  },
  {
   "cell_type": "code",
   "execution_count": 54,
   "metadata": {},
   "outputs": [
    {
     "data": {
      "text/plain": [
       "0.9541761075083991"
      ]
     },
     "execution_count": 54,
     "metadata": {},
     "output_type": "execute_result"
    }
   ],
   "source": [
    "model.score(X_test,y_test)"
   ]
  },
  {
   "cell_type": "code",
   "execution_count": 55,
   "metadata": {},
   "outputs": [
    {
     "data": {
      "text/plain": [
       "0    48877\n",
       "1     2319\n",
       "Name: popularity_bin, dtype: int64"
      ]
     },
     "execution_count": 55,
     "metadata": {},
     "output_type": "execute_result"
    }
   ],
   "source": [
    "y_test.value_counts()"
   ]
  },
  {
   "cell_type": "markdown",
   "metadata": {},
   "source": [
    "#### retesting model with stats api RES model"
   ]
  },
  {
   "cell_type": "code",
   "execution_count": 56,
   "metadata": {},
   "outputs": [
    {
     "data": {
      "text/plain": [
       "61783     0.006073\n",
       "101786    0.033130\n",
       "84289     0.019793\n",
       "46612     0.008313\n",
       "69275     0.019607\n",
       "            ...   \n",
       "82270     0.007276\n",
       "65615     0.009087\n",
       "77655     0.002134\n",
       "56088     0.039820\n",
       "38408     0.032684\n",
       "Length: 119457, dtype: float64"
      ]
     },
     "execution_count": 56,
     "metadata": {},
     "output_type": "execute_result"
    }
   ],
   "source": [
    "y_train_pred = res.predict(X_train_sm)\n",
    "y_train_pred"
   ]
  },
  {
   "cell_type": "code",
   "execution_count": 57,
   "metadata": {},
   "outputs": [
    {
     "data": {
      "text/plain": [
       "array([0, 0, 0, ..., 0, 0, 1])"
      ]
     },
     "execution_count": 57,
     "metadata": {},
     "output_type": "execute_result"
    }
   ],
   "source": [
    "y_train.values #original y target values for training set "
   ]
  },
  {
   "cell_type": "code",
   "execution_count": 58,
   "metadata": {},
   "outputs": [
    {
     "data": {
      "text/html": [
       "<div>\n",
       "<style scoped>\n",
       "    .dataframe tbody tr th:only-of-type {\n",
       "        vertical-align: middle;\n",
       "    }\n",
       "\n",
       "    .dataframe tbody tr th {\n",
       "        vertical-align: top;\n",
       "    }\n",
       "\n",
       "    .dataframe thead th {\n",
       "        text-align: right;\n",
       "    }\n",
       "</style>\n",
       "<table border=\"1\" class=\"dataframe\">\n",
       "  <thead>\n",
       "    <tr style=\"text-align: right;\">\n",
       "      <th></th>\n",
       "      <th>Converted_y</th>\n",
       "      <th>Converted_prob_y</th>\n",
       "      <th>SongID</th>\n",
       "    </tr>\n",
       "  </thead>\n",
       "  <tbody>\n",
       "    <tr>\n",
       "      <th>61783</th>\n",
       "      <td>0</td>\n",
       "      <td>0.006073</td>\n",
       "      <td>61783</td>\n",
       "    </tr>\n",
       "    <tr>\n",
       "      <th>101786</th>\n",
       "      <td>0</td>\n",
       "      <td>0.033130</td>\n",
       "      <td>101786</td>\n",
       "    </tr>\n",
       "    <tr>\n",
       "      <th>84289</th>\n",
       "      <td>0</td>\n",
       "      <td>0.019793</td>\n",
       "      <td>84289</td>\n",
       "    </tr>\n",
       "    <tr>\n",
       "      <th>46612</th>\n",
       "      <td>0</td>\n",
       "      <td>0.008313</td>\n",
       "      <td>46612</td>\n",
       "    </tr>\n",
       "    <tr>\n",
       "      <th>69275</th>\n",
       "      <td>0</td>\n",
       "      <td>0.019607</td>\n",
       "      <td>69275</td>\n",
       "    </tr>\n",
       "  </tbody>\n",
       "</table>\n",
       "</div>"
      ],
      "text/plain": [
       "        Converted_y  Converted_prob_y  SongID\n",
       "61783             0          0.006073   61783\n",
       "101786            0          0.033130  101786\n",
       "84289             0          0.019793   84289\n",
       "46612             0          0.008313   46612\n",
       "69275             0          0.019607   69275"
      ]
     },
     "execution_count": 58,
     "metadata": {},
     "output_type": "execute_result"
    }
   ],
   "source": [
    "y_train_pred_DF = pd.DataFrame({'Converted_y':y_train.values, 'Converted_prob_y':y_train_pred})\n",
    "y_train_pred_DF['SongID'] = y_train.index  #to replace original alphanumeric \n",
    "y_train_pred_DF.head()"
   ]
  },
  {
   "cell_type": "markdown",
   "metadata": {},
   "source": [
    "let's create a new column for predicted values above 'Converted_prob' >0.5\n",
    "this is an arbitary amount - which we will fine tune after the model evaluation\n",
    "we can now convert the 'Converted_prob_y' column to binary adding the filter of above or beow 0.5"
   ]
  },
  {
   "cell_type": "code",
   "execution_count": 59,
   "metadata": {},
   "outputs": [
    {
     "data": {
      "text/html": [
       "<div>\n",
       "<style scoped>\n",
       "    .dataframe tbody tr th:only-of-type {\n",
       "        vertical-align: middle;\n",
       "    }\n",
       "\n",
       "    .dataframe tbody tr th {\n",
       "        vertical-align: top;\n",
       "    }\n",
       "\n",
       "    .dataframe thead th {\n",
       "        text-align: right;\n",
       "    }\n",
       "</style>\n",
       "<table border=\"1\" class=\"dataframe\">\n",
       "  <thead>\n",
       "    <tr style=\"text-align: right;\">\n",
       "      <th></th>\n",
       "      <th>Converted_y</th>\n",
       "      <th>Converted_prob_y</th>\n",
       "      <th>SongID</th>\n",
       "      <th>predicted_y_OHE</th>\n",
       "    </tr>\n",
       "  </thead>\n",
       "  <tbody>\n",
       "    <tr>\n",
       "      <th>61783</th>\n",
       "      <td>0</td>\n",
       "      <td>0.006073</td>\n",
       "      <td>61783</td>\n",
       "      <td>0</td>\n",
       "    </tr>\n",
       "    <tr>\n",
       "      <th>101786</th>\n",
       "      <td>0</td>\n",
       "      <td>0.033130</td>\n",
       "      <td>101786</td>\n",
       "      <td>0</td>\n",
       "    </tr>\n",
       "    <tr>\n",
       "      <th>84289</th>\n",
       "      <td>0</td>\n",
       "      <td>0.019793</td>\n",
       "      <td>84289</td>\n",
       "      <td>0</td>\n",
       "    </tr>\n",
       "    <tr>\n",
       "      <th>46612</th>\n",
       "      <td>0</td>\n",
       "      <td>0.008313</td>\n",
       "      <td>46612</td>\n",
       "      <td>0</td>\n",
       "    </tr>\n",
       "    <tr>\n",
       "      <th>69275</th>\n",
       "      <td>0</td>\n",
       "      <td>0.019607</td>\n",
       "      <td>69275</td>\n",
       "      <td>0</td>\n",
       "    </tr>\n",
       "  </tbody>\n",
       "</table>\n",
       "</div>"
      ],
      "text/plain": [
       "        Converted_y  Converted_prob_y  SongID  predicted_y_OHE\n",
       "61783             0          0.006073   61783                0\n",
       "101786            0          0.033130  101786                0\n",
       "84289             0          0.019793   84289                0\n",
       "46612             0          0.008313   46612                0\n",
       "69275             0          0.019607   69275                0"
      ]
     },
     "execution_count": 59,
     "metadata": {},
     "output_type": "execute_result"
    }
   ],
   "source": [
    "y_train_pred_DF['predicted_y_OHE'] = y_train_pred_DF.Converted_prob_y.map(lambda x: 1 if x > 0.5 else 0)\n",
    "\n",
    "# Let's see the head\n",
    "y_train_pred_DF.head()"
   ]
  },
  {
   "cell_type": "code",
   "execution_count": 60,
   "metadata": {},
   "outputs": [
    {
     "name": "stdout",
     "output_type": "stream",
     "text": [
      "[[113154    893]\n",
      " [  4605    805]]\n"
     ]
    }
   ],
   "source": [
    "confusion_mat = metrics.confusion_matrix(y_train_pred_DF.Converted_y, y_train_pred_DF.predicted_y_OHE )\n",
    "print(confusion_mat)"
   ]
  },
  {
   "cell_type": "code",
   "execution_count": 61,
   "metadata": {},
   "outputs": [
    {
     "name": "stdout",
     "output_type": "stream",
     "text": [
      "the model has a 0.9539750705274701 accuracy\n"
     ]
    }
   ],
   "source": [
    "accuracy= (metrics.accuracy_score(y_train_pred_DF.Converted_y, y_train_pred_DF.predicted_y_OHE))\n",
    "print('the model has a {} accuracy'.format(accuracy))"
   ]
  },
  {
   "cell_type": "code",
   "execution_count": 62,
   "metadata": {},
   "outputs": [],
   "source": [
    "from sklearn.metrics import precision_recall_curve "
   ]
  },
  {
   "cell_type": "code",
   "execution_count": 63,
   "metadata": {},
   "outputs": [
    {
     "data": {
      "text/html": [
       "<div>\n",
       "<style scoped>\n",
       "    .dataframe tbody tr th:only-of-type {\n",
       "        vertical-align: middle;\n",
       "    }\n",
       "\n",
       "    .dataframe tbody tr th {\n",
       "        vertical-align: top;\n",
       "    }\n",
       "\n",
       "    .dataframe thead th {\n",
       "        text-align: right;\n",
       "    }\n",
       "</style>\n",
       "<table border=\"1\" class=\"dataframe\">\n",
       "  <thead>\n",
       "    <tr style=\"text-align: right;\">\n",
       "      <th></th>\n",
       "      <th>Converted_y</th>\n",
       "      <th>Converted_prob_y</th>\n",
       "      <th>SongID</th>\n",
       "      <th>predicted_y_OHE</th>\n",
       "      <th>0.0</th>\n",
       "      <th>0.1</th>\n",
       "      <th>0.2</th>\n",
       "      <th>0.3</th>\n",
       "      <th>0.4</th>\n",
       "      <th>0.5</th>\n",
       "      <th>0.6</th>\n",
       "      <th>0.7</th>\n",
       "      <th>0.8</th>\n",
       "      <th>0.9</th>\n",
       "    </tr>\n",
       "  </thead>\n",
       "  <tbody>\n",
       "    <tr>\n",
       "      <th>61783</th>\n",
       "      <td>0</td>\n",
       "      <td>0.006073</td>\n",
       "      <td>61783</td>\n",
       "      <td>0</td>\n",
       "      <td>1</td>\n",
       "      <td>0</td>\n",
       "      <td>0</td>\n",
       "      <td>0</td>\n",
       "      <td>0</td>\n",
       "      <td>0</td>\n",
       "      <td>0</td>\n",
       "      <td>0</td>\n",
       "      <td>0</td>\n",
       "      <td>0</td>\n",
       "    </tr>\n",
       "    <tr>\n",
       "      <th>101786</th>\n",
       "      <td>0</td>\n",
       "      <td>0.033130</td>\n",
       "      <td>101786</td>\n",
       "      <td>0</td>\n",
       "      <td>1</td>\n",
       "      <td>0</td>\n",
       "      <td>0</td>\n",
       "      <td>0</td>\n",
       "      <td>0</td>\n",
       "      <td>0</td>\n",
       "      <td>0</td>\n",
       "      <td>0</td>\n",
       "      <td>0</td>\n",
       "      <td>0</td>\n",
       "    </tr>\n",
       "    <tr>\n",
       "      <th>84289</th>\n",
       "      <td>0</td>\n",
       "      <td>0.019793</td>\n",
       "      <td>84289</td>\n",
       "      <td>0</td>\n",
       "      <td>1</td>\n",
       "      <td>0</td>\n",
       "      <td>0</td>\n",
       "      <td>0</td>\n",
       "      <td>0</td>\n",
       "      <td>0</td>\n",
       "      <td>0</td>\n",
       "      <td>0</td>\n",
       "      <td>0</td>\n",
       "      <td>0</td>\n",
       "    </tr>\n",
       "    <tr>\n",
       "      <th>46612</th>\n",
       "      <td>0</td>\n",
       "      <td>0.008313</td>\n",
       "      <td>46612</td>\n",
       "      <td>0</td>\n",
       "      <td>1</td>\n",
       "      <td>0</td>\n",
       "      <td>0</td>\n",
       "      <td>0</td>\n",
       "      <td>0</td>\n",
       "      <td>0</td>\n",
       "      <td>0</td>\n",
       "      <td>0</td>\n",
       "      <td>0</td>\n",
       "      <td>0</td>\n",
       "    </tr>\n",
       "    <tr>\n",
       "      <th>69275</th>\n",
       "      <td>0</td>\n",
       "      <td>0.019607</td>\n",
       "      <td>69275</td>\n",
       "      <td>0</td>\n",
       "      <td>1</td>\n",
       "      <td>0</td>\n",
       "      <td>0</td>\n",
       "      <td>0</td>\n",
       "      <td>0</td>\n",
       "      <td>0</td>\n",
       "      <td>0</td>\n",
       "      <td>0</td>\n",
       "      <td>0</td>\n",
       "      <td>0</td>\n",
       "    </tr>\n",
       "  </tbody>\n",
       "</table>\n",
       "</div>"
      ],
      "text/plain": [
       "        Converted_y  Converted_prob_y  SongID  predicted_y_OHE  0.0  0.1  0.2  \\\n",
       "61783             0          0.006073   61783                0    1    0    0   \n",
       "101786            0          0.033130  101786                0    1    0    0   \n",
       "84289             0          0.019793   84289                0    1    0    0   \n",
       "46612             0          0.008313   46612                0    1    0    0   \n",
       "69275             0          0.019607   69275                0    1    0    0   \n",
       "\n",
       "        0.3  0.4  0.5  0.6  0.7  0.8  0.9  \n",
       "61783     0    0    0    0    0    0    0  \n",
       "101786    0    0    0    0    0    0    0  \n",
       "84289     0    0    0    0    0    0    0  \n",
       "46612     0    0    0    0    0    0    0  \n",
       "69275     0    0    0    0    0    0    0  "
      ]
     },
     "execution_count": 63,
     "metadata": {},
     "output_type": "execute_result"
    }
   ],
   "source": [
    "# so i'm creating columns with different probability cutoffs \n",
    "nums = [float(x)/10 for x in range(10)]\n",
    "for i in nums:\n",
    "    y_train_pred_DF[i]= y_train_pred_DF.Converted_prob_y.map(lambda x: 1 if x > i else 0)\n",
    "y_train_pred_DF.head()"
   ]
  },
  {
   "cell_type": "code",
   "execution_count": 64,
   "metadata": {
    "scrolled": true
   },
   "outputs": [
    {
     "name": "stdout",
     "output_type": "stream",
     "text": [
      "     probability  accuracy  sensitivity  specificity\n",
      "0.0          0.0  0.045288     1.000000     0.000000\n",
      "0.1          0.1  0.942113     0.599076     0.958386\n",
      "0.2          0.2  0.943461     0.576710     0.960858\n",
      "0.3          0.3  0.945353     0.524769     0.965304\n",
      "0.4          0.4  0.950158     0.395564     0.976466\n",
      "0.5          0.5  0.953975     0.148799     0.992170\n",
      "0.6          0.6  0.954461     0.016081     0.998974\n",
      "0.7          0.7  0.954703     0.000000     0.999991\n",
      "0.8          0.8  0.954712     0.000000     1.000000\n",
      "0.9          0.9  0.954712     0.000000     1.000000\n"
     ]
    }
   ],
   "source": [
    "cutoff_df = pd.DataFrame( columns = ['probability','accuracy','sensitivity','specificity'])\n",
    "\n",
    "num = [0.0,0.1,0.2,0.3,0.4,0.5,0.6,0.7,0.8,0.9]\n",
    "for i in num:\n",
    "    cm1 = metrics.confusion_matrix(y_train_pred_DF.Converted_y, y_train_pred_DF[i] )\n",
    "    total1=sum(sum(cm1))\n",
    "    accuracy = (cm1[0,0]+cm1[1,1])/total1\n",
    "    \n",
    "    speci = cm1[0,0]/(cm1[0,0]+cm1[0,1])\n",
    "    sensi = cm1[1,1]/(cm1[1,0]+cm1[1,1])\n",
    "    cutoff_df.loc[i] =[ i ,accuracy,sensi,speci]\n",
    "print(cutoff_df)"
   ]
  },
  {
   "cell_type": "code",
   "execution_count": null,
   "metadata": {},
   "outputs": [],
   "source": []
  },
  {
   "cell_type": "code",
   "execution_count": 65,
   "metadata": {},
   "outputs": [
    {
     "data": {
      "image/png": "[encoded data removed]",
      "text/plain": [
       "<Figure size 432x288 with 1 Axes>"
      ]
     },
     "metadata": {
      "needs_background": "light"
     },
     "output_type": "display_data"
    }
   ],
   "source": [
    "\n",
    "cutoff_df.plot.line(x='probability', y=['accuracy','sensitivity','specificity'])\n",
    "\n",
    "plt.xticks(np.arange(0,1,0.08))\n",
    "\n",
    "plt.show()\n",
    "\n",
    "#optimal cutoff of target shows approx 0.07 - so re-running the model "
   ]
  },
  {
   "cell_type": "code",
   "execution_count": 66,
   "metadata": {},
   "outputs": [
    {
     "data": {
      "text/html": [
       "<div>\n",
       "<style scoped>\n",
       "    .dataframe tbody tr th:only-of-type {\n",
       "        vertical-align: middle;\n",
       "    }\n",
       "\n",
       "    .dataframe tbody tr th {\n",
       "        vertical-align: top;\n",
       "    }\n",
       "\n",
       "    .dataframe thead th {\n",
       "        text-align: right;\n",
       "    }\n",
       "</style>\n",
       "<table border=\"1\" class=\"dataframe\">\n",
       "  <thead>\n",
       "    <tr style=\"text-align: right;\">\n",
       "      <th></th>\n",
       "      <th>Converted_y</th>\n",
       "      <th>Converted_prob_y</th>\n",
       "      <th>SongID</th>\n",
       "      <th>predicted_y_OHE</th>\n",
       "      <th>0.0</th>\n",
       "      <th>0.1</th>\n",
       "      <th>0.2</th>\n",
       "      <th>0.3</th>\n",
       "      <th>0.4</th>\n",
       "      <th>0.5</th>\n",
       "      <th>0.6</th>\n",
       "      <th>0.7</th>\n",
       "      <th>0.8</th>\n",
       "      <th>0.9</th>\n",
       "      <th>y_OHEpostCutoff</th>\n",
       "    </tr>\n",
       "  </thead>\n",
       "  <tbody>\n",
       "    <tr>\n",
       "      <th>61783</th>\n",
       "      <td>0</td>\n",
       "      <td>0.006073</td>\n",
       "      <td>61783</td>\n",
       "      <td>0</td>\n",
       "      <td>1</td>\n",
       "      <td>0</td>\n",
       "      <td>0</td>\n",
       "      <td>0</td>\n",
       "      <td>0</td>\n",
       "      <td>0</td>\n",
       "      <td>0</td>\n",
       "      <td>0</td>\n",
       "      <td>0</td>\n",
       "      <td>0</td>\n",
       "      <td>0</td>\n",
       "    </tr>\n",
       "    <tr>\n",
       "      <th>101786</th>\n",
       "      <td>0</td>\n",
       "      <td>0.033130</td>\n",
       "      <td>101786</td>\n",
       "      <td>0</td>\n",
       "      <td>1</td>\n",
       "      <td>0</td>\n",
       "      <td>0</td>\n",
       "      <td>0</td>\n",
       "      <td>0</td>\n",
       "      <td>0</td>\n",
       "      <td>0</td>\n",
       "      <td>0</td>\n",
       "      <td>0</td>\n",
       "      <td>0</td>\n",
       "      <td>0</td>\n",
       "    </tr>\n",
       "    <tr>\n",
       "      <th>84289</th>\n",
       "      <td>0</td>\n",
       "      <td>0.019793</td>\n",
       "      <td>84289</td>\n",
       "      <td>0</td>\n",
       "      <td>1</td>\n",
       "      <td>0</td>\n",
       "      <td>0</td>\n",
       "      <td>0</td>\n",
       "      <td>0</td>\n",
       "      <td>0</td>\n",
       "      <td>0</td>\n",
       "      <td>0</td>\n",
       "      <td>0</td>\n",
       "      <td>0</td>\n",
       "      <td>0</td>\n",
       "    </tr>\n",
       "    <tr>\n",
       "      <th>46612</th>\n",
       "      <td>0</td>\n",
       "      <td>0.008313</td>\n",
       "      <td>46612</td>\n",
       "      <td>0</td>\n",
       "      <td>1</td>\n",
       "      <td>0</td>\n",
       "      <td>0</td>\n",
       "      <td>0</td>\n",
       "      <td>0</td>\n",
       "      <td>0</td>\n",
       "      <td>0</td>\n",
       "      <td>0</td>\n",
       "      <td>0</td>\n",
       "      <td>0</td>\n",
       "      <td>0</td>\n",
       "    </tr>\n",
       "    <tr>\n",
       "      <th>69275</th>\n",
       "      <td>0</td>\n",
       "      <td>0.019607</td>\n",
       "      <td>69275</td>\n",
       "      <td>0</td>\n",
       "      <td>1</td>\n",
       "      <td>0</td>\n",
       "      <td>0</td>\n",
       "      <td>0</td>\n",
       "      <td>0</td>\n",
       "      <td>0</td>\n",
       "      <td>0</td>\n",
       "      <td>0</td>\n",
       "      <td>0</td>\n",
       "      <td>0</td>\n",
       "      <td>0</td>\n",
       "    </tr>\n",
       "  </tbody>\n",
       "</table>\n",
       "</div>"
      ],
      "text/plain": [
       "        Converted_y  Converted_prob_y  SongID  predicted_y_OHE  0.0  0.1  0.2  \\\n",
       "61783             0          0.006073   61783                0    1    0    0   \n",
       "101786            0          0.033130  101786                0    1    0    0   \n",
       "84289             0          0.019793   84289                0    1    0    0   \n",
       "46612             0          0.008313   46612                0    1    0    0   \n",
       "69275             0          0.019607   69275                0    1    0    0   \n",
       "\n",
       "        0.3  0.4  0.5  0.6  0.7  0.8  0.9  y_OHEpostCutoff  \n",
       "61783     0    0    0    0    0    0    0                0  \n",
       "101786    0    0    0    0    0    0    0                0  \n",
       "84289     0    0    0    0    0    0    0                0  \n",
       "46612     0    0    0    0    0    0    0                0  \n",
       "69275     0    0    0    0    0    0    0                0  "
      ]
     },
     "execution_count": 66,
     "metadata": {},
     "output_type": "execute_result"
    }
   ],
   "source": [
    "y_train_pred_DF['y_OHEpostCutoff'] = y_train_pred_DF.Converted_prob_y.map( lambda x: 1 if x > 0.20 else 0)\n",
    "\n",
    "y_train_pred_DF.head()"
   ]
  },
  {
   "cell_type": "code",
   "execution_count": 67,
   "metadata": {
    "scrolled": true
   },
   "outputs": [
    {
     "data": {
      "text/html": [
       "<div>\n",
       "<style scoped>\n",
       "    .dataframe tbody tr th:only-of-type {\n",
       "        vertical-align: middle;\n",
       "    }\n",
       "\n",
       "    .dataframe tbody tr th {\n",
       "        vertical-align: top;\n",
       "    }\n",
       "\n",
       "    .dataframe thead th {\n",
       "        text-align: right;\n",
       "    }\n",
       "</style>\n",
       "<table border=\"1\" class=\"dataframe\">\n",
       "  <thead>\n",
       "    <tr style=\"text-align: right;\">\n",
       "      <th></th>\n",
       "      <th>Converted_y</th>\n",
       "      <th>Converted_prob_y</th>\n",
       "      <th>SongID</th>\n",
       "      <th>predicted_y_OHE</th>\n",
       "      <th>0.0</th>\n",
       "      <th>0.1</th>\n",
       "      <th>0.2</th>\n",
       "      <th>0.3</th>\n",
       "      <th>0.4</th>\n",
       "      <th>0.5</th>\n",
       "      <th>0.6</th>\n",
       "      <th>0.7</th>\n",
       "      <th>0.8</th>\n",
       "      <th>0.9</th>\n",
       "      <th>y_OHEpostCutoff</th>\n",
       "      <th>song_popularity_newScoring</th>\n",
       "    </tr>\n",
       "  </thead>\n",
       "  <tbody>\n",
       "    <tr>\n",
       "      <th>61783</th>\n",
       "      <td>0</td>\n",
       "      <td>0.006073</td>\n",
       "      <td>61783</td>\n",
       "      <td>0</td>\n",
       "      <td>1</td>\n",
       "      <td>0</td>\n",
       "      <td>0</td>\n",
       "      <td>0</td>\n",
       "      <td>0</td>\n",
       "      <td>0</td>\n",
       "      <td>0</td>\n",
       "      <td>0</td>\n",
       "      <td>0</td>\n",
       "      <td>0</td>\n",
       "      <td>0</td>\n",
       "      <td>1</td>\n",
       "    </tr>\n",
       "    <tr>\n",
       "      <th>101786</th>\n",
       "      <td>0</td>\n",
       "      <td>0.033130</td>\n",
       "      <td>101786</td>\n",
       "      <td>0</td>\n",
       "      <td>1</td>\n",
       "      <td>0</td>\n",
       "      <td>0</td>\n",
       "      <td>0</td>\n",
       "      <td>0</td>\n",
       "      <td>0</td>\n",
       "      <td>0</td>\n",
       "      <td>0</td>\n",
       "      <td>0</td>\n",
       "      <td>0</td>\n",
       "      <td>0</td>\n",
       "      <td>3</td>\n",
       "    </tr>\n",
       "    <tr>\n",
       "      <th>84289</th>\n",
       "      <td>0</td>\n",
       "      <td>0.019793</td>\n",
       "      <td>84289</td>\n",
       "      <td>0</td>\n",
       "      <td>1</td>\n",
       "      <td>0</td>\n",
       "      <td>0</td>\n",
       "      <td>0</td>\n",
       "      <td>0</td>\n",
       "      <td>0</td>\n",
       "      <td>0</td>\n",
       "      <td>0</td>\n",
       "      <td>0</td>\n",
       "      <td>0</td>\n",
       "      <td>0</td>\n",
       "      <td>2</td>\n",
       "    </tr>\n",
       "    <tr>\n",
       "      <th>46612</th>\n",
       "      <td>0</td>\n",
       "      <td>0.008313</td>\n",
       "      <td>46612</td>\n",
       "      <td>0</td>\n",
       "      <td>1</td>\n",
       "      <td>0</td>\n",
       "      <td>0</td>\n",
       "      <td>0</td>\n",
       "      <td>0</td>\n",
       "      <td>0</td>\n",
       "      <td>0</td>\n",
       "      <td>0</td>\n",
       "      <td>0</td>\n",
       "      <td>0</td>\n",
       "      <td>0</td>\n",
       "      <td>1</td>\n",
       "    </tr>\n",
       "    <tr>\n",
       "      <th>69275</th>\n",
       "      <td>0</td>\n",
       "      <td>0.019607</td>\n",
       "      <td>69275</td>\n",
       "      <td>0</td>\n",
       "      <td>1</td>\n",
       "      <td>0</td>\n",
       "      <td>0</td>\n",
       "      <td>0</td>\n",
       "      <td>0</td>\n",
       "      <td>0</td>\n",
       "      <td>0</td>\n",
       "      <td>0</td>\n",
       "      <td>0</td>\n",
       "      <td>0</td>\n",
       "      <td>0</td>\n",
       "      <td>2</td>\n",
       "    </tr>\n",
       "  </tbody>\n",
       "</table>\n",
       "</div>"
      ],
      "text/plain": [
       "        Converted_y  Converted_prob_y  SongID  predicted_y_OHE  0.0  0.1  0.2  \\\n",
       "61783             0          0.006073   61783                0    1    0    0   \n",
       "101786            0          0.033130  101786                0    1    0    0   \n",
       "84289             0          0.019793   84289                0    1    0    0   \n",
       "46612             0          0.008313   46612                0    1    0    0   \n",
       "69275             0          0.019607   69275                0    1    0    0   \n",
       "\n",
       "        0.3  0.4  0.5  0.6  0.7  0.8  0.9  y_OHEpostCutoff  \\\n",
       "61783     0    0    0    0    0    0    0                0   \n",
       "101786    0    0    0    0    0    0    0                0   \n",
       "84289     0    0    0    0    0    0    0                0   \n",
       "46612     0    0    0    0    0    0    0                0   \n",
       "69275     0    0    0    0    0    0    0                0   \n",
       "\n",
       "        song_popularity_newScoring  \n",
       "61783                            1  \n",
       "101786                           3  \n",
       "84289                            2  \n",
       "46612                            1  \n",
       "69275                            2  "
      ]
     },
     "execution_count": 67,
     "metadata": {},
     "output_type": "execute_result"
    }
   ],
   "source": [
    "y_train_pred_DF['song_popularity_newScoring'] = y_train_pred_DF.Converted_prob_y.map( lambda x: round(x*100))\n",
    "\n",
    "y_train_pred_DF.head()"
   ]
  },
  {
   "cell_type": "code",
   "execution_count": 68,
   "metadata": {},
   "outputs": [],
   "source": [
    "from sklearn.metrics import f1_score"
   ]
  },
  {
   "cell_type": "code",
   "execution_count": 69,
   "metadata": {},
   "outputs": [
    {
     "data": {
      "text/plain": [
       "0.48022164075727264"
      ]
     },
     "execution_count": 69,
     "metadata": {},
     "output_type": "execute_result"
    }
   ],
   "source": [
    "f1_score(y_train_pred_DF.Converted_y, y_train_pred_DF.y_OHEpostCutoff)"
   ]
  },
  {
   "cell_type": "code",
   "execution_count": 70,
   "metadata": {},
   "outputs": [
    {
     "name": "stdout",
     "output_type": "stream",
     "text": [
      "the models precision score is 0.41139240506329117 and the models recall score is 0.5767097966728281\n",
      "the model has a 0.954711737277849 accuracy\n"
     ]
    }
   ],
   "source": [
    "p=precision_score(y_train_pred_DF.Converted_y , y_train_pred_DF.y_OHEpostCutoff)\n",
    "r=recall_score(y_train_pred_DF.Converted_y, y_train_pred_DF.y_OHEpostCutoff)\n",
    "print('the models precision score is {} and the models recall score is {}'.format(p,r))\n",
    "print('the model has a {} accuracy'.format(accuracy))"
   ]
  },
  {
   "cell_type": "markdown",
   "metadata": {},
   "source": []
  },
  {
   "cell_type": "code",
   "execution_count": 71,
   "metadata": {},
   "outputs": [
    {
     "data": {
      "text/plain": [
       "Index(['valence', 'acousticness', 'danceability', 'energy', 'explicit',\n",
       "       'liveness', 'loudness', 'release_date', 'speechiness'],\n",
       "      dtype='object')"
      ]
     },
     "execution_count": 71,
     "metadata": {},
     "output_type": "execute_result"
    }
   ],
   "source": [
    "X_test.columns"
   ]
  },
  {
   "cell_type": "code",
   "execution_count": 72,
   "metadata": {},
   "outputs": [
    {
     "data": {
      "text/html": [
       "<div>\n",
       "<style scoped>\n",
       "    .dataframe tbody tr th:only-of-type {\n",
       "        vertical-align: middle;\n",
       "    }\n",
       "\n",
       "    .dataframe tbody tr th {\n",
       "        vertical-align: top;\n",
       "    }\n",
       "\n",
       "    .dataframe thead th {\n",
       "        text-align: right;\n",
       "    }\n",
       "</style>\n",
       "<table border=\"1\" class=\"dataframe\">\n",
       "  <thead>\n",
       "    <tr style=\"text-align: right;\">\n",
       "      <th></th>\n",
       "      <th>valence</th>\n",
       "      <th>acousticness</th>\n",
       "      <th>danceability</th>\n",
       "      <th>energy</th>\n",
       "      <th>explicit</th>\n",
       "      <th>liveness</th>\n",
       "      <th>loudness</th>\n",
       "      <th>release_date</th>\n",
       "      <th>speechiness</th>\n",
       "    </tr>\n",
       "  </thead>\n",
       "  <tbody>\n",
       "    <tr>\n",
       "      <th>32557</th>\n",
       "      <td>0.871356</td>\n",
       "      <td>-1.240057</td>\n",
       "      <td>2.275806</td>\n",
       "      <td>0.543873</td>\n",
       "      <td>-0.300147</td>\n",
       "      <td>1.569490</td>\n",
       "      <td>0.823661</td>\n",
       "      <td>0</td>\n",
       "      <td>1.954264</td>\n",
       "    </tr>\n",
       "    <tr>\n",
       "      <th>120898</th>\n",
       "      <td>-0.445057</td>\n",
       "      <td>-1.334878</td>\n",
       "      <td>-0.382071</td>\n",
       "      <td>1.703365</td>\n",
       "      <td>3.331698</td>\n",
       "      <td>-1.074255</td>\n",
       "      <td>1.220630</td>\n",
       "      <td>0</td>\n",
       "      <td>1.954264</td>\n",
       "    </tr>\n",
       "    <tr>\n",
       "      <th>48568</th>\n",
       "      <td>-0.886398</td>\n",
       "      <td>0.416618</td>\n",
       "      <td>-0.796655</td>\n",
       "      <td>-0.480969</td>\n",
       "      <td>-0.300147</td>\n",
       "      <td>-0.274744</td>\n",
       "      <td>-0.438626</td>\n",
       "      <td>0</td>\n",
       "      <td>-0.894916</td>\n",
       "    </tr>\n",
       "    <tr>\n",
       "      <th>89576</th>\n",
       "      <td>-0.833132</td>\n",
       "      <td>-1.287953</td>\n",
       "      <td>0.060908</td>\n",
       "      <td>0.970267</td>\n",
       "      <td>-0.300147</td>\n",
       "      <td>-0.254138</td>\n",
       "      <td>1.225359</td>\n",
       "      <td>0</td>\n",
       "      <td>-0.315671</td>\n",
       "    </tr>\n",
       "    <tr>\n",
       "      <th>117852</th>\n",
       "      <td>0.631663</td>\n",
       "      <td>-1.289550</td>\n",
       "      <td>-1.427049</td>\n",
       "      <td>0.682264</td>\n",
       "      <td>-0.300147</td>\n",
       "      <td>-0.254138</td>\n",
       "      <td>-1.030140</td>\n",
       "      <td>0</td>\n",
       "      <td>-0.383299</td>\n",
       "    </tr>\n",
       "  </tbody>\n",
       "</table>\n",
       "</div>"
      ],
      "text/plain": [
       "         valence  acousticness  danceability    energy  explicit  liveness  \\\n",
       "32557   0.871356     -1.240057      2.275806  0.543873 -0.300147  1.569490   \n",
       "120898 -0.445057     -1.334878     -0.382071  1.703365  3.331698 -1.074255   \n",
       "48568  -0.886398      0.416618     -0.796655 -0.480969 -0.300147 -0.274744   \n",
       "89576  -0.833132     -1.287953      0.060908  0.970267 -0.300147 -0.254138   \n",
       "117852  0.631663     -1.289550     -1.427049  0.682264 -0.300147 -0.254138   \n",
       "\n",
       "        loudness  release_date  speechiness  \n",
       "32557   0.823661             0     1.954264  \n",
       "120898  1.220630             0     1.954264  \n",
       "48568  -0.438626             0    -0.894916  \n",
       "89576   1.225359             0    -0.315671  \n",
       "117852 -1.030140             0    -0.383299  "
      ]
     },
     "execution_count": 72,
     "metadata": {},
     "output_type": "execute_result"
    }
   ],
   "source": [
    "X_test[['valence', 'acousticness', 'danceability', 'energy', 'explicit',\n",
    "       'liveness', 'loudness', 'speechiness']] = scaly.fit_transform(X_test[['valence', 'acousticness', 'danceability', 'energy', 'explicit',\n",
    "       'liveness', 'loudness', 'speechiness']])\n",
    "\n",
    "X_test.head()\n"
   ]
  },
  {
   "cell_type": "code",
   "execution_count": 73,
   "metadata": {},
   "outputs": [
    {
     "data": {
      "text/html": [
       "<div>\n",
       "<style scoped>\n",
       "    .dataframe tbody tr th:only-of-type {\n",
       "        vertical-align: middle;\n",
       "    }\n",
       "\n",
       "    .dataframe tbody tr th {\n",
       "        vertical-align: top;\n",
       "    }\n",
       "\n",
       "    .dataframe thead th {\n",
       "        text-align: right;\n",
       "    }\n",
       "</style>\n",
       "<table border=\"1\" class=\"dataframe\">\n",
       "  <thead>\n",
       "    <tr style=\"text-align: right;\">\n",
       "      <th></th>\n",
       "      <th>valence</th>\n",
       "      <th>acousticness</th>\n",
       "      <th>danceability</th>\n",
       "      <th>energy</th>\n",
       "      <th>explicit</th>\n",
       "      <th>liveness</th>\n",
       "      <th>loudness</th>\n",
       "      <th>release_date</th>\n",
       "      <th>speechiness</th>\n",
       "    </tr>\n",
       "  </thead>\n",
       "  <tbody>\n",
       "    <tr>\n",
       "      <th>32557</th>\n",
       "      <td>0.871356</td>\n",
       "      <td>-1.240057</td>\n",
       "      <td>2.275806</td>\n",
       "      <td>0.543873</td>\n",
       "      <td>-0.300147</td>\n",
       "      <td>1.569490</td>\n",
       "      <td>0.823661</td>\n",
       "      <td>0</td>\n",
       "      <td>1.954264</td>\n",
       "    </tr>\n",
       "    <tr>\n",
       "      <th>120898</th>\n",
       "      <td>-0.445057</td>\n",
       "      <td>-1.334878</td>\n",
       "      <td>-0.382071</td>\n",
       "      <td>1.703365</td>\n",
       "      <td>3.331698</td>\n",
       "      <td>-1.074255</td>\n",
       "      <td>1.220630</td>\n",
       "      <td>0</td>\n",
       "      <td>1.954264</td>\n",
       "    </tr>\n",
       "    <tr>\n",
       "      <th>48568</th>\n",
       "      <td>-0.886398</td>\n",
       "      <td>0.416618</td>\n",
       "      <td>-0.796655</td>\n",
       "      <td>-0.480969</td>\n",
       "      <td>-0.300147</td>\n",
       "      <td>-0.274744</td>\n",
       "      <td>-0.438626</td>\n",
       "      <td>0</td>\n",
       "      <td>-0.894916</td>\n",
       "    </tr>\n",
       "    <tr>\n",
       "      <th>89576</th>\n",
       "      <td>-0.833132</td>\n",
       "      <td>-1.287953</td>\n",
       "      <td>0.060908</td>\n",
       "      <td>0.970267</td>\n",
       "      <td>-0.300147</td>\n",
       "      <td>-0.254138</td>\n",
       "      <td>1.225359</td>\n",
       "      <td>0</td>\n",
       "      <td>-0.315671</td>\n",
       "    </tr>\n",
       "    <tr>\n",
       "      <th>117852</th>\n",
       "      <td>0.631663</td>\n",
       "      <td>-1.289550</td>\n",
       "      <td>-1.427049</td>\n",
       "      <td>0.682264</td>\n",
       "      <td>-0.300147</td>\n",
       "      <td>-0.254138</td>\n",
       "      <td>-1.030140</td>\n",
       "      <td>0</td>\n",
       "      <td>-0.383299</td>\n",
       "    </tr>\n",
       "  </tbody>\n",
       "</table>\n",
       "</div>"
      ],
      "text/plain": [
       "         valence  acousticness  danceability    energy  explicit  liveness  \\\n",
       "32557   0.871356     -1.240057      2.275806  0.543873 -0.300147  1.569490   \n",
       "120898 -0.445057     -1.334878     -0.382071  1.703365  3.331698 -1.074255   \n",
       "48568  -0.886398      0.416618     -0.796655 -0.480969 -0.300147 -0.274744   \n",
       "89576  -0.833132     -1.287953      0.060908  0.970267 -0.300147 -0.254138   \n",
       "117852  0.631663     -1.289550     -1.427049  0.682264 -0.300147 -0.254138   \n",
       "\n",
       "        loudness  release_date  speechiness  \n",
       "32557   0.823661             0     1.954264  \n",
       "120898  1.220630             0     1.954264  \n",
       "48568  -0.438626             0    -0.894916  \n",
       "89576   1.225359             0    -0.315671  \n",
       "117852 -1.030140             0    -0.383299  "
      ]
     },
     "execution_count": 73,
     "metadata": {},
     "output_type": "execute_result"
    }
   ],
   "source": [
    "X_test = X_test[col5]\n",
    "X_test.head()"
   ]
  },
  {
   "cell_type": "code",
   "execution_count": 74,
   "metadata": {},
   "outputs": [],
   "source": [
    "X_test_sm = sm.add_constant(X_test)"
   ]
  },
  {
   "cell_type": "code",
   "execution_count": 75,
   "metadata": {},
   "outputs": [],
   "source": [
    "y_test_pred = res.predict(X_test_sm) #running the final model "
   ]
  },
  {
   "cell_type": "code",
   "execution_count": 76,
   "metadata": {},
   "outputs": [],
   "source": [
    "y_pred_1_DF = pd.DataFrame(y_test_pred) #making dataframe from y_test "
   ]
  },
  {
   "cell_type": "code",
   "execution_count": 77,
   "metadata": {},
   "outputs": [],
   "source": [
    "\n",
    "y_test_df = pd.DataFrame(y_test)  # Converting original y_test to dataframe"
   ]
  },
  {
   "cell_type": "code",
   "execution_count": 78,
   "metadata": {},
   "outputs": [],
   "source": [
    "# matching songID as done earlier \n",
    "y_test_df['SongID'] = y_test_df.index"
   ]
  },
  {
   "cell_type": "code",
   "execution_count": 79,
   "metadata": {},
   "outputs": [],
   "source": [
    "y_pred_1_DF.reset_index(drop=True, inplace=True)\n",
    "y_test_df.reset_index(drop=True, inplace=True)\n",
    "y_pred_final_DF = pd.concat([y_test_df, y_pred_1_DF],axis=1)"
   ]
  },
  {
   "cell_type": "code",
   "execution_count": 80,
   "metadata": {},
   "outputs": [
    {
     "data": {
      "text/html": [
       "<div>\n",
       "<style scoped>\n",
       "    .dataframe tbody tr th:only-of-type {\n",
       "        vertical-align: middle;\n",
       "    }\n",
       "\n",
       "    .dataframe tbody tr th {\n",
       "        vertical-align: top;\n",
       "    }\n",
       "\n",
       "    .dataframe thead th {\n",
       "        text-align: right;\n",
       "    }\n",
       "</style>\n",
       "<table border=\"1\" class=\"dataframe\">\n",
       "  <thead>\n",
       "    <tr style=\"text-align: right;\">\n",
       "      <th></th>\n",
       "      <th>popularity_bin</th>\n",
       "      <th>SongID</th>\n",
       "      <th>Converted_prob</th>\n",
       "    </tr>\n",
       "  </thead>\n",
       "  <tbody>\n",
       "    <tr>\n",
       "      <th>0</th>\n",
       "      <td>0</td>\n",
       "      <td>32557</td>\n",
       "      <td>0.035976</td>\n",
       "    </tr>\n",
       "    <tr>\n",
       "      <th>1</th>\n",
       "      <td>0</td>\n",
       "      <td>120898</td>\n",
       "      <td>0.074896</td>\n",
       "    </tr>\n",
       "    <tr>\n",
       "      <th>2</th>\n",
       "      <td>0</td>\n",
       "      <td>48568</td>\n",
       "      <td>0.008884</td>\n",
       "    </tr>\n",
       "    <tr>\n",
       "      <th>3</th>\n",
       "      <td>0</td>\n",
       "      <td>89576</td>\n",
       "      <td>0.048489</td>\n",
       "    </tr>\n",
       "    <tr>\n",
       "      <th>4</th>\n",
       "      <td>0</td>\n",
       "      <td>117852</td>\n",
       "      <td>0.004905</td>\n",
       "    </tr>\n",
       "  </tbody>\n",
       "</table>\n",
       "</div>"
      ],
      "text/plain": [
       "   popularity_bin  SongID  Converted_prob\n",
       "0               0   32557        0.035976\n",
       "1               0  120898        0.074896\n",
       "2               0   48568        0.008884\n",
       "3               0   89576        0.048489\n",
       "4               0  117852        0.004905"
      ]
     },
     "execution_count": 80,
     "metadata": {},
     "output_type": "execute_result"
    }
   ],
   "source": [
    "y_pred_final_DF= y_pred_final_DF.rename(columns={ 0 : 'Converted_prob'})\n",
    "y_pred_final_DF.head()"
   ]
  },
  {
   "cell_type": "code",
   "execution_count": 81,
   "metadata": {},
   "outputs": [],
   "source": [
    "y_pred_final_DF['final_predicted'] = y_pred_final_DF.Converted_prob.map(lambda x: 1 if x > 0.20 else 0)"
   ]
  },
  {
   "cell_type": "code",
   "execution_count": 82,
   "metadata": {},
   "outputs": [
    {
     "data": {
      "text/html": [
       "<div>\n",
       "<style scoped>\n",
       "    .dataframe tbody tr th:only-of-type {\n",
       "        vertical-align: middle;\n",
       "    }\n",
       "\n",
       "    .dataframe tbody tr th {\n",
       "        vertical-align: top;\n",
       "    }\n",
       "\n",
       "    .dataframe thead th {\n",
       "        text-align: right;\n",
       "    }\n",
       "</style>\n",
       "<table border=\"1\" class=\"dataframe\">\n",
       "  <thead>\n",
       "    <tr style=\"text-align: right;\">\n",
       "      <th></th>\n",
       "      <th>popularity_bin</th>\n",
       "      <th>SongID</th>\n",
       "      <th>Converted_prob</th>\n",
       "      <th>final_predicted</th>\n",
       "    </tr>\n",
       "  </thead>\n",
       "  <tbody>\n",
       "    <tr>\n",
       "      <th>0</th>\n",
       "      <td>0</td>\n",
       "      <td>32557</td>\n",
       "      <td>0.035976</td>\n",
       "      <td>0</td>\n",
       "    </tr>\n",
       "    <tr>\n",
       "      <th>1</th>\n",
       "      <td>0</td>\n",
       "      <td>120898</td>\n",
       "      <td>0.074896</td>\n",
       "      <td>0</td>\n",
       "    </tr>\n",
       "    <tr>\n",
       "      <th>2</th>\n",
       "      <td>0</td>\n",
       "      <td>48568</td>\n",
       "      <td>0.008884</td>\n",
       "      <td>0</td>\n",
       "    </tr>\n",
       "    <tr>\n",
       "      <th>3</th>\n",
       "      <td>0</td>\n",
       "      <td>89576</td>\n",
       "      <td>0.048489</td>\n",
       "      <td>0</td>\n",
       "    </tr>\n",
       "    <tr>\n",
       "      <th>4</th>\n",
       "      <td>0</td>\n",
       "      <td>117852</td>\n",
       "      <td>0.004905</td>\n",
       "      <td>0</td>\n",
       "    </tr>\n",
       "  </tbody>\n",
       "</table>\n",
       "</div>"
      ],
      "text/plain": [
       "   popularity_bin  SongID  Converted_prob  final_predicted\n",
       "0               0   32557        0.035976                0\n",
       "1               0  120898        0.074896                0\n",
       "2               0   48568        0.008884                0\n",
       "3               0   89576        0.048489                0\n",
       "4               0  117852        0.004905                0"
      ]
     },
     "execution_count": 82,
     "metadata": {},
     "output_type": "execute_result"
    }
   ],
   "source": [
    "y_pred_final_DF.head()  "
   ]
  },
  {
   "cell_type": "code",
   "execution_count": 83,
   "metadata": {},
   "outputs": [
    {
     "name": "stdout",
     "output_type": "stream",
     "text": [
      "the accuracy of the testing model is 0.9438628017813891\n"
     ]
    }
   ],
   "source": [
    "fin=metrics.accuracy_score(y_pred_final_DF.popularity_bin, y_pred_final_DF.final_predicted)\n",
    "print('the accuracy of the testing model is {}'.format(fin))"
   ]
  },
  {
   "cell_type": "code",
   "execution_count": 84,
   "metadata": {},
   "outputs": [
    {
     "data": {
      "text/plain": [
       "0.47439648866130213"
      ]
     },
     "execution_count": 84,
     "metadata": {},
     "output_type": "execute_result"
    }
   ],
   "source": [
    "f1_score(y_pred_final_DF.popularity_bin, y_pred_final_DF.final_predicted)"
   ]
  },
  {
   "cell_type": "code",
   "execution_count": 85,
   "metadata": {},
   "outputs": [
    {
     "data": {
      "text/html": [
       "<div>\n",
       "<style scoped>\n",
       "    .dataframe tbody tr th:only-of-type {\n",
       "        vertical-align: middle;\n",
       "    }\n",
       "\n",
       "    .dataframe tbody tr th {\n",
       "        vertical-align: top;\n",
       "    }\n",
       "\n",
       "    .dataframe thead th {\n",
       "        text-align: right;\n",
       "    }\n",
       "</style>\n",
       "<table border=\"1\" class=\"dataframe\">\n",
       "  <thead>\n",
       "    <tr style=\"text-align: right;\">\n",
       "      <th></th>\n",
       "      <th>0</th>\n",
       "    </tr>\n",
       "  </thead>\n",
       "  <tbody>\n",
       "    <tr>\n",
       "      <th>const</th>\n",
       "      <td>-4.264308</td>\n",
       "    </tr>\n",
       "    <tr>\n",
       "      <th>valence</th>\n",
       "      <td>-0.100628</td>\n",
       "    </tr>\n",
       "    <tr>\n",
       "      <th>acousticness</th>\n",
       "      <td>-0.283720</td>\n",
       "    </tr>\n",
       "    <tr>\n",
       "      <th>danceability</th>\n",
       "      <td>0.217046</td>\n",
       "    </tr>\n",
       "    <tr>\n",
       "      <th>energy</th>\n",
       "      <td>-0.211444</td>\n",
       "    </tr>\n",
       "    <tr>\n",
       "      <th>explicit</th>\n",
       "      <td>0.228115</td>\n",
       "    </tr>\n",
       "    <tr>\n",
       "      <th>liveness</th>\n",
       "      <td>-0.101617</td>\n",
       "    </tr>\n",
       "    <tr>\n",
       "      <th>loudness</th>\n",
       "      <td>0.856537</td>\n",
       "    </tr>\n",
       "    <tr>\n",
       "      <th>release_date</th>\n",
       "      <td>2.809916</td>\n",
       "    </tr>\n",
       "    <tr>\n",
       "      <th>speechiness</th>\n",
       "      <td>-0.073998</td>\n",
       "    </tr>\n",
       "  </tbody>\n",
       "</table>\n",
       "</div>"
      ],
      "text/plain": [
       "                     0\n",
       "const        -4.264308\n",
       "valence      -0.100628\n",
       "acousticness -0.283720\n",
       "danceability  0.217046\n",
       "energy       -0.211444\n",
       "explicit      0.228115\n",
       "liveness     -0.101617\n",
       "loudness      0.856537\n",
       "release_date  2.809916\n",
       "speechiness  -0.073998"
      ]
     },
     "execution_count": 85,
     "metadata": {},
     "output_type": "execute_result"
    }
   ],
   "source": [
    "model_a=res.params\n",
    "pd.DataFrame(model_a)"
   ]
  },
  {
   "cell_type": "code",
   "execution_count": 86,
   "metadata": {
    "scrolled": true
   },
   "outputs": [
    {
     "data": {
      "text/html": [
       "<div>\n",
       "<style scoped>\n",
       "    .dataframe tbody tr th:only-of-type {\n",
       "        vertical-align: middle;\n",
       "    }\n",
       "\n",
       "    .dataframe tbody tr th {\n",
       "        vertical-align: top;\n",
       "    }\n",
       "\n",
       "    .dataframe thead th {\n",
       "        text-align: right;\n",
       "    }\n",
       "</style>\n",
       "<table border=\"1\" class=\"dataframe\">\n",
       "  <thead>\n",
       "    <tr style=\"text-align: right;\">\n",
       "      <th></th>\n",
       "      <th>valence</th>\n",
       "      <th>acousticness</th>\n",
       "      <th>danceability</th>\n",
       "      <th>energy</th>\n",
       "      <th>explicit</th>\n",
       "      <th>liveness</th>\n",
       "      <th>loudness</th>\n",
       "      <th>release_date</th>\n",
       "      <th>speechiness</th>\n",
       "    </tr>\n",
       "  </thead>\n",
       "  <tbody>\n",
       "    <tr>\n",
       "      <th>32557</th>\n",
       "      <td>0.871356</td>\n",
       "      <td>-1.240057</td>\n",
       "      <td>2.275806</td>\n",
       "      <td>0.543873</td>\n",
       "      <td>-0.300147</td>\n",
       "      <td>1.569490</td>\n",
       "      <td>0.823661</td>\n",
       "      <td>0</td>\n",
       "      <td>1.954264</td>\n",
       "    </tr>\n",
       "    <tr>\n",
       "      <th>120898</th>\n",
       "      <td>-0.445057</td>\n",
       "      <td>-1.334878</td>\n",
       "      <td>-0.382071</td>\n",
       "      <td>1.703365</td>\n",
       "      <td>3.331698</td>\n",
       "      <td>-1.074255</td>\n",
       "      <td>1.220630</td>\n",
       "      <td>0</td>\n",
       "      <td>1.954264</td>\n",
       "    </tr>\n",
       "    <tr>\n",
       "      <th>48568</th>\n",
       "      <td>-0.886398</td>\n",
       "      <td>0.416618</td>\n",
       "      <td>-0.796655</td>\n",
       "      <td>-0.480969</td>\n",
       "      <td>-0.300147</td>\n",
       "      <td>-0.274744</td>\n",
       "      <td>-0.438626</td>\n",
       "      <td>0</td>\n",
       "      <td>-0.894916</td>\n",
       "    </tr>\n",
       "    <tr>\n",
       "      <th>89576</th>\n",
       "      <td>-0.833132</td>\n",
       "      <td>-1.287953</td>\n",
       "      <td>0.060908</td>\n",
       "      <td>0.970267</td>\n",
       "      <td>-0.300147</td>\n",
       "      <td>-0.254138</td>\n",
       "      <td>1.225359</td>\n",
       "      <td>0</td>\n",
       "      <td>-0.315671</td>\n",
       "    </tr>\n",
       "    <tr>\n",
       "      <th>117852</th>\n",
       "      <td>0.631663</td>\n",
       "      <td>-1.289550</td>\n",
       "      <td>-1.427049</td>\n",
       "      <td>0.682264</td>\n",
       "      <td>-0.300147</td>\n",
       "      <td>-0.254138</td>\n",
       "      <td>-1.030140</td>\n",
       "      <td>0</td>\n",
       "      <td>-0.383299</td>\n",
       "    </tr>\n",
       "  </tbody>\n",
       "</table>\n",
       "</div>"
      ],
      "text/plain": [
       "         valence  acousticness  danceability    energy  explicit  liveness  \\\n",
       "32557   0.871356     -1.240057      2.275806  0.543873 -0.300147  1.569490   \n",
       "120898 -0.445057     -1.334878     -0.382071  1.703365  3.331698 -1.074255   \n",
       "48568  -0.886398      0.416618     -0.796655 -0.480969 -0.300147 -0.274744   \n",
       "89576  -0.833132     -1.287953      0.060908  0.970267 -0.300147 -0.254138   \n",
       "117852  0.631663     -1.289550     -1.427049  0.682264 -0.300147 -0.254138   \n",
       "\n",
       "        loudness  release_date  speechiness  \n",
       "32557   0.823661             0     1.954264  \n",
       "120898  1.220630             0     1.954264  \n",
       "48568  -0.438626             0    -0.894916  \n",
       "89576   1.225359             0    -0.315671  \n",
       "117852 -1.030140             0    -0.383299  "
      ]
     },
     "execution_count": 86,
     "metadata": {},
     "output_type": "execute_result"
    }
   ],
   "source": [
    "X_test.head()"
   ]
  },
  {
   "cell_type": "code",
   "execution_count": 87,
   "metadata": {
    "scrolled": true
   },
   "outputs": [
    {
     "data": {
      "text/html": [
       "<table class=\"simpletable\">\n",
       "<caption>Generalized Linear Model Regression Results</caption>\n",
       "<tr>\n",
       "  <th>Dep. Variable:</th>    <td>popularity_bin</td>  <th>  No. Observations:  </th>  <td>119457</td> \n",
       "</tr>\n",
       "<tr>\n",
       "  <th>Model:</th>                  <td>GLM</td>       <th>  Df Residuals:      </th>  <td>119447</td> \n",
       "</tr>\n",
       "<tr>\n",
       "  <th>Model Family:</th>        <td>Binomial</td>     <th>  Df Model:          </th>  <td>     9</td> \n",
       "</tr>\n",
       "<tr>\n",
       "  <th>Link Function:</th>         <td>logit</td>      <th>  Scale:             </th> <td>  1.0000</td>\n",
       "</tr>\n",
       "<tr>\n",
       "  <th>Method:</th>                <td>IRLS</td>       <th>  Log-Likelihood:    </th> <td> -14996.</td>\n",
       "</tr>\n",
       "<tr>\n",
       "  <th>Date:</th>            <td>Wed, 16 Dec 2020</td> <th>  Deviance:          </th> <td>  29992.</td>\n",
       "</tr>\n",
       "<tr>\n",
       "  <th>Time:</th>                <td>18:38:16</td>     <th>  Pearson chi2:      </th> <td>9.42e+04</td>\n",
       "</tr>\n",
       "<tr>\n",
       "  <th>No. Iterations:</th>          <td>8</td>        <th>                     </th>     <td> </td>   \n",
       "</tr>\n",
       "<tr>\n",
       "  <th>Covariance Type:</th>     <td>nonrobust</td>    <th>                     </th>     <td> </td>   \n",
       "</tr>\n",
       "</table>\n",
       "<table class=\"simpletable\">\n",
       "<tr>\n",
       "        <td></td>          <th>coef</th>     <th>std err</th>      <th>z</th>      <th>P>|z|</th>  <th>[0.025</th>    <th>0.975]</th>  \n",
       "</tr>\n",
       "<tr>\n",
       "  <th>const</th>        <td>   -4.2643</td> <td>    0.028</td> <td> -154.587</td> <td> 0.000</td> <td>   -4.318</td> <td>   -4.210</td>\n",
       "</tr>\n",
       "<tr>\n",
       "  <th>valence</th>      <td>   -0.1006</td> <td>    0.021</td> <td>   -4.736</td> <td> 0.000</td> <td>   -0.142</td> <td>   -0.059</td>\n",
       "</tr>\n",
       "<tr>\n",
       "  <th>acousticness</th> <td>   -0.2837</td> <td>    0.028</td> <td>  -10.098</td> <td> 0.000</td> <td>   -0.339</td> <td>   -0.229</td>\n",
       "</tr>\n",
       "<tr>\n",
       "  <th>danceability</th> <td>    0.2170</td> <td>    0.022</td> <td>    9.905</td> <td> 0.000</td> <td>    0.174</td> <td>    0.260</td>\n",
       "</tr>\n",
       "<tr>\n",
       "  <th>energy</th>       <td>   -0.2114</td> <td>    0.036</td> <td>   -5.891</td> <td> 0.000</td> <td>   -0.282</td> <td>   -0.141</td>\n",
       "</tr>\n",
       "<tr>\n",
       "  <th>explicit</th>     <td>    0.2281</td> <td>    0.046</td> <td>    4.971</td> <td> 0.000</td> <td>    0.138</td> <td>    0.318</td>\n",
       "</tr>\n",
       "<tr>\n",
       "  <th>liveness</th>     <td>   -0.1016</td> <td>    0.017</td> <td>   -5.926</td> <td> 0.000</td> <td>   -0.135</td> <td>   -0.068</td>\n",
       "</tr>\n",
       "<tr>\n",
       "  <th>loudness</th>     <td>    0.8565</td> <td>    0.036</td> <td>   23.488</td> <td> 0.000</td> <td>    0.785</td> <td>    0.928</td>\n",
       "</tr>\n",
       "<tr>\n",
       "  <th>release_date</th> <td>    2.8099</td> <td>    0.037</td> <td>   75.747</td> <td> 0.000</td> <td>    2.737</td> <td>    2.883</td>\n",
       "</tr>\n",
       "<tr>\n",
       "  <th>speechiness</th>  <td>   -0.0740</td> <td>    0.017</td> <td>   -4.235</td> <td> 0.000</td> <td>   -0.108</td> <td>   -0.040</td>\n",
       "</tr>\n",
       "</table>"
      ],
      "text/plain": [
       "<class 'statsmodels.iolib.summary.Summary'>\n",
       "\"\"\"\n",
       "                 Generalized Linear Model Regression Results                  \n",
       "==============================================================================\n",
       "Dep. Variable:         popularity_bin   No. Observations:               119457\n",
       "Model:                            GLM   Df Residuals:                   119447\n",
       "Model Family:                Binomial   Df Model:                            9\n",
       "Link Function:                  logit   Scale:                          1.0000\n",
       "Method:                          IRLS   Log-Likelihood:                -14996.\n",
       "Date:                Wed, 16 Dec 2020   Deviance:                       29992.\n",
       "Time:                        18:38:16   Pearson chi2:                 9.42e+04\n",
       "No. Iterations:                     8                                         \n",
       "Covariance Type:            nonrobust                                         \n",
       "================================================================================\n",
       "                   coef    std err          z      P>|z|      [0.025      0.975]\n",
       "--------------------------------------------------------------------------------\n",
       "const           -4.2643      0.028   -154.587      0.000      -4.318      -4.210\n",
       "valence         -0.1006      0.021     -4.736      0.000      -0.142      -0.059\n",
       "acousticness    -0.2837      0.028    -10.098      0.000      -0.339      -0.229\n",
       "danceability     0.2170      0.022      9.905      0.000       0.174       0.260\n",
       "energy          -0.2114      0.036     -5.891      0.000      -0.282      -0.141\n",
       "explicit         0.2281      0.046      4.971      0.000       0.138       0.318\n",
       "liveness        -0.1016      0.017     -5.926      0.000      -0.135      -0.068\n",
       "loudness         0.8565      0.036     23.488      0.000       0.785       0.928\n",
       "release_date     2.8099      0.037     75.747      0.000       2.737       2.883\n",
       "speechiness     -0.0740      0.017     -4.235      0.000      -0.108      -0.040\n",
       "================================================================================\n",
       "\"\"\""
      ]
     },
     "execution_count": 87,
     "metadata": {},
     "output_type": "execute_result"
    }
   ],
   "source": [
    "res.summary()"
   ]
  },
  {
   "cell_type": "code",
   "execution_count": 88,
   "metadata": {},
   "outputs": [
    {
     "data": {
      "text/plain": [
       "32557     0.035976\n",
       "120898    0.074896\n",
       "48568     0.008884\n",
       "89576     0.048489\n",
       "117852    0.004905\n",
       "            ...   \n",
       "42047     0.001607\n",
       "36369     0.060262\n",
       "132408    0.026853\n",
       "101523    0.015472\n",
       "42567     0.006579\n",
       "Length: 51196, dtype: float64"
      ]
     },
     "execution_count": 88,
     "metadata": {},
     "output_type": "execute_result"
    }
   ],
   "source": [
    "res.predict(X_test_sm)"
   ]
  },
  {
   "cell_type": "code",
   "execution_count": 89,
   "metadata": {},
   "outputs": [
    {
     "data": {
      "text/plain": [
       "0    48047\n",
       "1     3149\n",
       "Name: final_predicted, dtype: int64"
      ]
     },
     "execution_count": 89,
     "metadata": {},
     "output_type": "execute_result"
    }
   ],
   "source": [
    "y_pred_final_DF.final_predicted.value_counts()"
   ]
  },
  {
   "cell_type": "code",
   "execution_count": 90,
   "metadata": {
    "scrolled": true
   },
   "outputs": [
    {
     "data": {
      "text/html": [
       "<div>\n",
       "<style scoped>\n",
       "    .dataframe tbody tr th:only-of-type {\n",
       "        vertical-align: middle;\n",
       "    }\n",
       "\n",
       "    .dataframe tbody tr th {\n",
       "        vertical-align: top;\n",
       "    }\n",
       "\n",
       "    .dataframe thead th {\n",
       "        text-align: right;\n",
       "    }\n",
       "</style>\n",
       "<table border=\"1\" class=\"dataframe\">\n",
       "  <thead>\n",
       "    <tr style=\"text-align: right;\">\n",
       "      <th></th>\n",
       "      <th>const</th>\n",
       "      <th>valence</th>\n",
       "      <th>acousticness</th>\n",
       "      <th>danceability</th>\n",
       "      <th>energy</th>\n",
       "      <th>explicit</th>\n",
       "      <th>liveness</th>\n",
       "      <th>loudness</th>\n",
       "      <th>release_date</th>\n",
       "      <th>speechiness</th>\n",
       "    </tr>\n",
       "  </thead>\n",
       "  <tbody>\n",
       "    <tr>\n",
       "      <th>32557</th>\n",
       "      <td>1.0</td>\n",
       "      <td>0.871356</td>\n",
       "      <td>-1.240057</td>\n",
       "      <td>2.275806</td>\n",
       "      <td>0.543873</td>\n",
       "      <td>-0.300147</td>\n",
       "      <td>1.569490</td>\n",
       "      <td>0.823661</td>\n",
       "      <td>0</td>\n",
       "      <td>1.954264</td>\n",
       "    </tr>\n",
       "    <tr>\n",
       "      <th>120898</th>\n",
       "      <td>1.0</td>\n",
       "      <td>-0.445057</td>\n",
       "      <td>-1.334878</td>\n",
       "      <td>-0.382071</td>\n",
       "      <td>1.703365</td>\n",
       "      <td>3.331698</td>\n",
       "      <td>-1.074255</td>\n",
       "      <td>1.220630</td>\n",
       "      <td>0</td>\n",
       "      <td>1.954264</td>\n",
       "    </tr>\n",
       "    <tr>\n",
       "      <th>48568</th>\n",
       "      <td>1.0</td>\n",
       "      <td>-0.886398</td>\n",
       "      <td>0.416618</td>\n",
       "      <td>-0.796655</td>\n",
       "      <td>-0.480969</td>\n",
       "      <td>-0.300147</td>\n",
       "      <td>-0.274744</td>\n",
       "      <td>-0.438626</td>\n",
       "      <td>0</td>\n",
       "      <td>-0.894916</td>\n",
       "    </tr>\n",
       "    <tr>\n",
       "      <th>89576</th>\n",
       "      <td>1.0</td>\n",
       "      <td>-0.833132</td>\n",
       "      <td>-1.287953</td>\n",
       "      <td>0.060908</td>\n",
       "      <td>0.970267</td>\n",
       "      <td>-0.300147</td>\n",
       "      <td>-0.254138</td>\n",
       "      <td>1.225359</td>\n",
       "      <td>0</td>\n",
       "      <td>-0.315671</td>\n",
       "    </tr>\n",
       "    <tr>\n",
       "      <th>117852</th>\n",
       "      <td>1.0</td>\n",
       "      <td>0.631663</td>\n",
       "      <td>-1.289550</td>\n",
       "      <td>-1.427049</td>\n",
       "      <td>0.682264</td>\n",
       "      <td>-0.300147</td>\n",
       "      <td>-0.254138</td>\n",
       "      <td>-1.030140</td>\n",
       "      <td>0</td>\n",
       "      <td>-0.383299</td>\n",
       "    </tr>\n",
       "    <tr>\n",
       "      <th>...</th>\n",
       "      <td>...</td>\n",
       "      <td>...</td>\n",
       "      <td>...</td>\n",
       "      <td>...</td>\n",
       "      <td>...</td>\n",
       "      <td>...</td>\n",
       "      <td>...</td>\n",
       "      <td>...</td>\n",
       "      <td>...</td>\n",
       "      <td>...</td>\n",
       "    </tr>\n",
       "    <tr>\n",
       "      <th>42047</th>\n",
       "      <td>1.0</td>\n",
       "      <td>-1.030975</td>\n",
       "      <td>1.209565</td>\n",
       "      <td>-1.120370</td>\n",
       "      <td>-1.004611</td>\n",
       "      <td>-0.300147</td>\n",
       "      <td>1.713732</td>\n",
       "      <td>-1.763284</td>\n",
       "      <td>0</td>\n",
       "      <td>1.954264</td>\n",
       "    </tr>\n",
       "    <tr>\n",
       "      <th>36369</th>\n",
       "      <td>1.0</td>\n",
       "      <td>0.639272</td>\n",
       "      <td>-1.312061</td>\n",
       "      <td>0.975264</td>\n",
       "      <td>0.360598</td>\n",
       "      <td>3.331698</td>\n",
       "      <td>1.713732</td>\n",
       "      <td>0.576202</td>\n",
       "      <td>0</td>\n",
       "      <td>0.072453</td>\n",
       "    </tr>\n",
       "    <tr>\n",
       "      <th>132408</th>\n",
       "      <td>1.0</td>\n",
       "      <td>1.274651</td>\n",
       "      <td>-1.292477</td>\n",
       "      <td>0.787849</td>\n",
       "      <td>1.482688</td>\n",
       "      <td>-0.300147</td>\n",
       "      <td>-1.074255</td>\n",
       "      <td>0.580705</td>\n",
       "      <td>0</td>\n",
       "      <td>-0.542076</td>\n",
       "    </tr>\n",
       "    <tr>\n",
       "      <th>101523</th>\n",
       "      <td>1.0</td>\n",
       "      <td>-0.144489</td>\n",
       "      <td>-0.998980</td>\n",
       "      <td>-0.330958</td>\n",
       "      <td>0.311974</td>\n",
       "      <td>-0.300147</td>\n",
       "      <td>-0.779590</td>\n",
       "      <td>-0.147035</td>\n",
       "      <td>0</td>\n",
       "      <td>-0.894916</td>\n",
       "    </tr>\n",
       "    <tr>\n",
       "      <th>42567</th>\n",
       "      <td>1.0</td>\n",
       "      <td>-0.486908</td>\n",
       "      <td>0.858326</td>\n",
       "      <td>-0.154902</td>\n",
       "      <td>-1.154223</td>\n",
       "      <td>-0.300147</td>\n",
       "      <td>-0.583833</td>\n",
       "      <td>-0.718058</td>\n",
       "      <td>0</td>\n",
       "      <td>1.954264</td>\n",
       "    </tr>\n",
       "  </tbody>\n",
       "</table>\n",
       "<p>51196 rows × 10 columns</p>\n",
       "</div>"
      ],
      "text/plain": [
       "        const   valence  acousticness  danceability    energy  explicit  \\\n",
       "32557     1.0  0.871356     -1.240057      2.275806  0.543873 -0.300147   \n",
       "120898    1.0 -0.445057     -1.334878     -0.382071  1.703365  3.331698   \n",
       "48568     1.0 -0.886398      0.416618     -0.796655 -0.480969 -0.300147   \n",
       "89576     1.0 -0.833132     -1.287953      0.060908  0.970267 -0.300147   \n",
       "117852    1.0  0.631663     -1.289550     -1.427049  0.682264 -0.300147   \n",
       "...       ...       ...           ...           ...       ...       ...   \n",
       "42047     1.0 -1.030975      1.209565     -1.120370 -1.004611 -0.300147   \n",
       "36369     1.0  0.639272     -1.312061      0.975264  0.360598  3.331698   \n",
       "132408    1.0  1.274651     -1.292477      0.787849  1.482688 -0.300147   \n",
       "101523    1.0 -0.144489     -0.998980     -0.330958  0.311974 -0.300147   \n",
       "42567     1.0 -0.486908      0.858326     -0.154902 -1.154223 -0.300147   \n",
       "\n",
       "        liveness  loudness  release_date  speechiness  \n",
       "32557   1.569490  0.823661             0     1.954264  \n",
       "120898 -1.074255  1.220630             0     1.954264  \n",
       "48568  -0.274744 -0.438626             0    -0.894916  \n",
       "89576  -0.254138  1.225359             0    -0.315671  \n",
       "117852 -0.254138 -1.030140             0    -0.383299  \n",
       "...          ...       ...           ...          ...  \n",
       "42047   1.713732 -1.763284             0     1.954264  \n",
       "36369   1.713732  0.576202             0     0.072453  \n",
       "132408 -1.074255  0.580705             0    -0.542076  \n",
       "101523 -0.779590 -0.147035             0    -0.894916  \n",
       "42567  -0.583833 -0.718058             0     1.954264  \n",
       "\n",
       "[51196 rows x 10 columns]"
      ]
     },
     "execution_count": 90,
     "metadata": {},
     "output_type": "execute_result"
    }
   ],
   "source": [
    "#res.predict()\n",
    "X_test_sm"
   ]
  },
  {
   "cell_type": "code",
   "execution_count": 91,
   "metadata": {
    "scrolled": true
   },
   "outputs": [
    {
     "data": {
      "text/html": [
       "<table class=\"simpletable\">\n",
       "<caption>Generalized Linear Model Regression Results</caption>\n",
       "<tr>\n",
       "  <th>Dep. Variable:</th>    <td>popularity_bin</td>  <th>  No. Observations:  </th>  <td>119457</td> \n",
       "</tr>\n",
       "<tr>\n",
       "  <th>Model:</th>                  <td>GLM</td>       <th>  Df Residuals:      </th>  <td>119447</td> \n",
       "</tr>\n",
       "<tr>\n",
       "  <th>Model Family:</th>        <td>Binomial</td>     <th>  Df Model:          </th>  <td>     9</td> \n",
       "</tr>\n",
       "<tr>\n",
       "  <th>Link Function:</th>         <td>logit</td>      <th>  Scale:             </th> <td>  1.0000</td>\n",
       "</tr>\n",
       "<tr>\n",
       "  <th>Method:</th>                <td>IRLS</td>       <th>  Log-Likelihood:    </th> <td> -14996.</td>\n",
       "</tr>\n",
       "<tr>\n",
       "  <th>Date:</th>            <td>Wed, 16 Dec 2020</td> <th>  Deviance:          </th> <td>  29992.</td>\n",
       "</tr>\n",
       "<tr>\n",
       "  <th>Time:</th>                <td>18:38:16</td>     <th>  Pearson chi2:      </th> <td>9.42e+04</td>\n",
       "</tr>\n",
       "<tr>\n",
       "  <th>No. Iterations:</th>          <td>8</td>        <th>                     </th>     <td> </td>   \n",
       "</tr>\n",
       "<tr>\n",
       "  <th>Covariance Type:</th>     <td>nonrobust</td>    <th>                     </th>     <td> </td>   \n",
       "</tr>\n",
       "</table>\n",
       "<table class=\"simpletable\">\n",
       "<tr>\n",
       "        <td></td>          <th>coef</th>     <th>std err</th>      <th>z</th>      <th>P>|z|</th>  <th>[0.025</th>    <th>0.975]</th>  \n",
       "</tr>\n",
       "<tr>\n",
       "  <th>const</th>        <td>   -4.2643</td> <td>    0.028</td> <td> -154.587</td> <td> 0.000</td> <td>   -4.318</td> <td>   -4.210</td>\n",
       "</tr>\n",
       "<tr>\n",
       "  <th>valence</th>      <td>   -0.1006</td> <td>    0.021</td> <td>   -4.736</td> <td> 0.000</td> <td>   -0.142</td> <td>   -0.059</td>\n",
       "</tr>\n",
       "<tr>\n",
       "  <th>acousticness</th> <td>   -0.2837</td> <td>    0.028</td> <td>  -10.098</td> <td> 0.000</td> <td>   -0.339</td> <td>   -0.229</td>\n",
       "</tr>\n",
       "<tr>\n",
       "  <th>danceability</th> <td>    0.2170</td> <td>    0.022</td> <td>    9.905</td> <td> 0.000</td> <td>    0.174</td> <td>    0.260</td>\n",
       "</tr>\n",
       "<tr>\n",
       "  <th>energy</th>       <td>   -0.2114</td> <td>    0.036</td> <td>   -5.891</td> <td> 0.000</td> <td>   -0.282</td> <td>   -0.141</td>\n",
       "</tr>\n",
       "<tr>\n",
       "  <th>explicit</th>     <td>    0.2281</td> <td>    0.046</td> <td>    4.971</td> <td> 0.000</td> <td>    0.138</td> <td>    0.318</td>\n",
       "</tr>\n",
       "<tr>\n",
       "  <th>liveness</th>     <td>   -0.1016</td> <td>    0.017</td> <td>   -5.926</td> <td> 0.000</td> <td>   -0.135</td> <td>   -0.068</td>\n",
       "</tr>\n",
       "<tr>\n",
       "  <th>loudness</th>     <td>    0.8565</td> <td>    0.036</td> <td>   23.488</td> <td> 0.000</td> <td>    0.785</td> <td>    0.928</td>\n",
       "</tr>\n",
       "<tr>\n",
       "  <th>release_date</th> <td>    2.8099</td> <td>    0.037</td> <td>   75.747</td> <td> 0.000</td> <td>    2.737</td> <td>    2.883</td>\n",
       "</tr>\n",
       "<tr>\n",
       "  <th>speechiness</th>  <td>   -0.0740</td> <td>    0.017</td> <td>   -4.235</td> <td> 0.000</td> <td>   -0.108</td> <td>   -0.040</td>\n",
       "</tr>\n",
       "</table>"
      ],
      "text/plain": [
       "<class 'statsmodels.iolib.summary.Summary'>\n",
       "\"\"\"\n",
       "                 Generalized Linear Model Regression Results                  \n",
       "==============================================================================\n",
       "Dep. Variable:         popularity_bin   No. Observations:               119457\n",
       "Model:                            GLM   Df Residuals:                   119447\n",
       "Model Family:                Binomial   Df Model:                            9\n",
       "Link Function:                  logit   Scale:                          1.0000\n",
       "Method:                          IRLS   Log-Likelihood:                -14996.\n",
       "Date:                Wed, 16 Dec 2020   Deviance:                       29992.\n",
       "Time:                        18:38:16   Pearson chi2:                 9.42e+04\n",
       "No. Iterations:                     8                                         \n",
       "Covariance Type:            nonrobust                                         \n",
       "================================================================================\n",
       "                   coef    std err          z      P>|z|      [0.025      0.975]\n",
       "--------------------------------------------------------------------------------\n",
       "const           -4.2643      0.028   -154.587      0.000      -4.318      -4.210\n",
       "valence         -0.1006      0.021     -4.736      0.000      -0.142      -0.059\n",
       "acousticness    -0.2837      0.028    -10.098      0.000      -0.339      -0.229\n",
       "danceability     0.2170      0.022      9.905      0.000       0.174       0.260\n",
       "energy          -0.2114      0.036     -5.891      0.000      -0.282      -0.141\n",
       "explicit         0.2281      0.046      4.971      0.000       0.138       0.318\n",
       "liveness        -0.1016      0.017     -5.926      0.000      -0.135      -0.068\n",
       "loudness         0.8565      0.036     23.488      0.000       0.785       0.928\n",
       "release_date     2.8099      0.037     75.747      0.000       2.737       2.883\n",
       "speechiness     -0.0740      0.017     -4.235      0.000      -0.108      -0.040\n",
       "================================================================================\n",
       "\"\"\""
      ]
     },
     "execution_count": 91,
     "metadata": {},
     "output_type": "execute_result"
    }
   ],
   "source": [
    "res.params\n",
    "res.summary()"
   ]
  },
  {
   "cell_type": "code",
   "execution_count": 92,
   "metadata": {},
   "outputs": [
    {
     "data": {
      "text/plain": [
       "1.0    51196\n",
       "Name: const, dtype: int64"
      ]
     },
     "execution_count": 92,
     "metadata": {},
     "output_type": "execute_result"
    }
   ],
   "source": [
    "X_test_sm.const.value_counts()"
   ]
  },
  {
   "cell_type": "markdown",
   "metadata": {},
   "source": [
    "# taking inputs for the model\n",
    "\n",
    "#### @Muzzamil example of the input required from the html index page \n",
    "- the model is 'res'\n",
    "- you will need to call the res.predict function and take the inputs - as an example below \n",
    "- note that 'const' will always be the same and isn't user defined \n",
    "- also note that 'release_date' is a feature that is boolean - it would need to be a radio button"
   ]
  },
  {
   "cell_type": "code",
   "execution_count": 93,
   "metadata": {},
   "outputs": [
    {
     "data": {
      "text/plain": [
       "array([0.03597561])"
      ]
     },
     "execution_count": 93,
     "metadata": {},
     "output_type": "execute_result"
    }
   ],
   "source": [
    " \n",
    "input_s=res.predict([1,0.871356,-1.240057,2.275806,0.543873,-0.300147,1.569490,0.823661,0,1.954264]) \n",
    "input_s #song ID 32557 or index 0 "
   ]
  },
  {
   "cell_type": "code",
   "execution_count": 94,
   "metadata": {
    "scrolled": true
   },
   "outputs": [
    {
     "data": {
      "text/plain": [
       "0.0359755996099383"
      ]
     },
     "execution_count": 94,
     "metadata": {},
     "output_type": "execute_result"
    }
   ],
   "source": [
    "#same as below \n",
    "y_pred_final_DF.Converted_prob[0]"
   ]
  },
  {
   "cell_type": "markdown",
   "metadata": {},
   "source": [
    "#### in case the output of the input array reads like above, and not in boolean you can use the function below to convert the same to boolean "
   ]
  },
  {
   "cell_type": "code",
   "execution_count": 95,
   "metadata": {},
   "outputs": [
    {
     "name": "stdout",
     "output_type": "stream",
     "text": [
      "<function convv at 0x1a1ce2b710>\n"
     ]
    }
   ],
   "source": [
    "def convv(input_s):\n",
    "    if input_s>0.2:\n",
    "        return 1\n",
    "    else:\n",
    "        return 0 \n",
    "    \n",
    "print(convv)\n"
   ]
  },
  {
   "cell_type": "code",
   "execution_count": 96,
   "metadata": {},
   "outputs": [
    {
     "data": {
      "text/plain": [
       "0"
      ]
     },
     "execution_count": 96,
     "metadata": {},
     "output_type": "execute_result"
    }
   ],
   "source": [
    "convv(y_pred_final_DF.Converted_prob[0])"
   ]
  },
  {
   "cell_type": "markdown",
   "metadata": {},
   "source": [
    "#### text for the final attributes as follows (ignoring 'const' that will always be 1- you can keep that fixed in ) \n",
    "\n",
    "- valence - to be replaced with the text 'how positive was the track?'\n",
    "- acousticness\t- to be replaced with the text 'how acoustic were the instruments?'\n",
    "- danceability\t- to be replaced with the text 'how suitable is it for dancing?'\n",
    "- energy\t- to be replaced with the text 'how energetic is the track?'\n",
    "- explicit\t- to be replaced with the text 'how explicit are the lyrics?'\n",
    "- liveness\t- to be replaced with the text 'how loud is the recorded crowd/audience?'\n",
    "- loudness\t- to be replaced with the text 'how loud does it feel compared to other tracks?'\n",
    "- release_date\t- to be replaced with the text 'was this released in the last 5 years?'\n",
    "- speechiness - to be replaced with the text 'was there a lot of talking in the track? poetry etc?'\n",
    "\n",
    "\n",
    "#### final output text \n",
    "\n",
    "- 'this song could definitely be popular!'\n",
    "- 'sorry, this song may not be popular!' \n",
    "\n"
   ]
  },
  {
   "cell_type": "code",
   "execution_count": 97,
   "metadata": {
    "scrolled": true
   },
   "outputs": [
    {
     "data": {
      "text/plain": [
       "Index(['valence', 'acousticness', 'danceability', 'energy', 'explicit',\n",
       "       'liveness', 'loudness', 'release_date', 'speechiness'],\n",
       "      dtype='object')"
      ]
     },
     "execution_count": 97,
     "metadata": {},
     "output_type": "execute_result"
    }
   ],
   "source": [
    "X_test.columns"
   ]
  },
  {
   "cell_type": "code",
   "execution_count": 98,
   "metadata": {},
   "outputs": [],
   "source": [
    "nums3=[['valence', 'acousticness', 'danceability', 'energy', 'explicit',\n",
    "       'liveness', 'loudness', 'speechiness']]"
   ]
  },
  {
   "cell_type": "code",
   "execution_count": 134,
   "metadata": {},
   "outputs": [],
   "source": [
    "(df_rcs.describe().round(2).iloc[3:8]).to_excel('final.xls')"
   ]
  },
  {
   "cell_type": "code",
   "execution_count": 110,
   "metadata": {},
   "outputs": [
    {
     "data": {
      "text/html": [
       "<div>\n",
       "<style scoped>\n",
       "    .dataframe tbody tr th:only-of-type {\n",
       "        vertical-align: middle;\n",
       "    }\n",
       "\n",
       "    .dataframe tbody tr th {\n",
       "        vertical-align: top;\n",
       "    }\n",
       "\n",
       "    .dataframe thead th {\n",
       "        text-align: right;\n",
       "    }\n",
       "</style>\n",
       "<table border=\"1\" class=\"dataframe\">\n",
       "  <thead>\n",
       "    <tr style=\"text-align: right;\">\n",
       "      <th></th>\n",
       "      <th>valence</th>\n",
       "      <th>acousticness</th>\n",
       "      <th>danceability</th>\n",
       "      <th>energy</th>\n",
       "      <th>explicit</th>\n",
       "      <th>liveness</th>\n",
       "      <th>loudness</th>\n",
       "      <th>release_date</th>\n",
       "      <th>speechiness</th>\n",
       "    </tr>\n",
       "  </thead>\n",
       "  <tbody>\n",
       "    <tr>\n",
       "      <th>count</th>\n",
       "      <td>119457.00</td>\n",
       "      <td>119457.00</td>\n",
       "      <td>119457.00</td>\n",
       "      <td>119457.00</td>\n",
       "      <td>119457.00</td>\n",
       "      <td>119457.00</td>\n",
       "      <td>119457.00</td>\n",
       "      <td>119457.00</td>\n",
       "      <td>119457.00</td>\n",
       "    </tr>\n",
       "    <tr>\n",
       "      <th>mean</th>\n",
       "      <td>0.00</td>\n",
       "      <td>0.00</td>\n",
       "      <td>0.00</td>\n",
       "      <td>0.00</td>\n",
       "      <td>0.09</td>\n",
       "      <td>0.00</td>\n",
       "      <td>0.00</td>\n",
       "      <td>0.07</td>\n",
       "      <td>-0.00</td>\n",
       "    </tr>\n",
       "    <tr>\n",
       "      <th>std</th>\n",
       "      <td>1.00</td>\n",
       "      <td>1.00</td>\n",
       "      <td>1.00</td>\n",
       "      <td>1.00</td>\n",
       "      <td>0.28</td>\n",
       "      <td>1.00</td>\n",
       "      <td>1.00</td>\n",
       "      <td>0.25</td>\n",
       "      <td>1.00</td>\n",
       "    </tr>\n",
       "    <tr>\n",
       "      <th>min</th>\n",
       "      <td>-2.01</td>\n",
       "      <td>-1.33</td>\n",
       "      <td>-3.05</td>\n",
       "      <td>-1.80</td>\n",
       "      <td>0.00</td>\n",
       "      <td>-1.06</td>\n",
       "      <td>-1.76</td>\n",
       "      <td>0.00</td>\n",
       "      <td>-0.89</td>\n",
       "    </tr>\n",
       "    <tr>\n",
       "      <th>25%</th>\n",
       "      <td>-0.80</td>\n",
       "      <td>-1.07</td>\n",
       "      <td>-0.70</td>\n",
       "      <td>-0.85</td>\n",
       "      <td>0.00</td>\n",
       "      <td>-0.81</td>\n",
       "      <td>-0.76</td>\n",
       "      <td>0.00</td>\n",
       "      <td>-0.75</td>\n",
       "    </tr>\n",
       "    <tr>\n",
       "      <th>50%</th>\n",
       "      <td>0.04</td>\n",
       "      <td>0.03</td>\n",
       "      <td>0.06</td>\n",
       "      <td>-0.04</td>\n",
       "      <td>0.00</td>\n",
       "      <td>-0.43</td>\n",
       "      <td>0.15</td>\n",
       "      <td>0.00</td>\n",
       "      <td>-0.46</td>\n",
       "    </tr>\n",
       "    <tr>\n",
       "      <th>75%</th>\n",
       "      <td>0.83</td>\n",
       "      <td>1.04</td>\n",
       "      <td>0.74</td>\n",
       "      <td>0.82</td>\n",
       "      <td>0.00</td>\n",
       "      <td>0.86</td>\n",
       "      <td>0.91</td>\n",
       "      <td>0.00</td>\n",
       "      <td>0.44</td>\n",
       "    </tr>\n",
       "    <tr>\n",
       "      <th>max</th>\n",
       "      <td>1.79</td>\n",
       "      <td>1.31</td>\n",
       "      <td>2.55</td>\n",
       "      <td>1.93</td>\n",
       "      <td>1.00</td>\n",
       "      <td>1.72</td>\n",
       "      <td>1.23</td>\n",
       "      <td>1.00</td>\n",
       "      <td>1.96</td>\n",
       "    </tr>\n",
       "  </tbody>\n",
       "</table>\n",
       "</div>"
      ],
      "text/plain": [
       "         valence  acousticness  danceability     energy   explicit   liveness  \\\n",
       "count  119457.00     119457.00     119457.00  119457.00  119457.00  119457.00   \n",
       "mean        0.00          0.00          0.00       0.00       0.09       0.00   \n",
       "std         1.00          1.00          1.00       1.00       0.28       1.00   \n",
       "min        -2.01         -1.33         -3.05      -1.80       0.00      -1.06   \n",
       "25%        -0.80         -1.07         -0.70      -0.85       0.00      -0.81   \n",
       "50%         0.04          0.03          0.06      -0.04       0.00      -0.43   \n",
       "75%         0.83          1.04          0.74       0.82       0.00       0.86   \n",
       "max         1.79          1.31          2.55       1.93       1.00       1.72   \n",
       "\n",
       "        loudness  release_date  speechiness  \n",
       "count  119457.00     119457.00    119457.00  \n",
       "mean        0.00          0.07        -0.00  \n",
       "std         1.00          0.25         1.00  \n",
       "min        -1.76          0.00        -0.89  \n",
       "25%        -0.76          0.00        -0.75  \n",
       "50%         0.15          0.00        -0.46  \n",
       "75%         0.91          0.00         0.44  \n",
       "max         1.23          1.00         1.96  "
      ]
     },
     "execution_count": 110,
     "metadata": {},
     "output_type": "execute_result"
    }
   ],
   "source": [
    "X_train.describe().round(2)"
   ]
  },
  {
   "cell_type": "code",
   "execution_count": 135,
   "metadata": {},
   "outputs": [
    {
     "data": {
      "text/plain": [
       "(170653, 16)"
      ]
     },
     "execution_count": 135,
     "metadata": {},
     "output_type": "execute_result"
    }
   ],
   "source": [
    "df_rcs.shape"
   ]
  },
  {
   "cell_type": "markdown",
   "metadata": {},
   "source": []
  }
 ],
 "metadata": {
  "kernelspec": {
   "display_name": "Python 3",
   "language": "python",
   "name": "python3"
  },
  "language_info": {
   "codemirror_mode": {
    "name": "ipython",
    "version": 3
   },
   "file_extension": ".py",
   "mimetype": "text/x-python",
   "name": "python",
   "nbconvert_exporter": "python",
   "pygments_lexer": "ipython3",
   "version": "3.7.6"
  }
 },
 "nbformat": 4,
 "nbformat_minor": 4
}
